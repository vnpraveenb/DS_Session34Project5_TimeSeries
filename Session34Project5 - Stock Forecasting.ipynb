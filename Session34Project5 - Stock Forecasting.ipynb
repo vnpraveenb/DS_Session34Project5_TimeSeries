{
 "cells": [
  {
   "cell_type": "markdown",
   "metadata": {},
   "source": [
    "# Problem statement\n"
   ]
  },
  {
   "cell_type": "markdown",
   "metadata": {},
   "source": [
    "Pick up the following stocks and generate forecasts accordingly\n",
    "Stocks:\n",
    "1. NASDAQ.AAPL\n",
    "2. NASDAQ.ADP\n",
    "3. NASDAQ.CBOE\n",
    "4. NASDAQ.CSCO\n",
    "5. NASDAQ.EBAY"
   ]
  },
  {
   "cell_type": "markdown",
   "metadata": {},
   "source": [
    "# Load Data"
   ]
  },
  {
   "cell_type": "code",
   "execution_count": 1,
   "metadata": {
    "ExecuteTime": {
     "end_time": "2018-11-26T05:34:16.006791Z",
     "start_time": "2018-11-26T05:34:16.000808Z"
    }
   },
   "outputs": [],
   "source": [
    "#  https://drive.google.com/file/d/1pP0Rr83ri0voscgr95-YnVCBv6BYV22w/view"
   ]
  },
  {
   "cell_type": "markdown",
   "metadata": {},
   "source": [
    "# Load Libraries"
   ]
  },
  {
   "cell_type": "code",
   "execution_count": 2,
   "metadata": {
    "ExecuteTime": {
     "end_time": "2018-11-26T05:34:17.826920Z",
     "start_time": "2018-11-26T05:34:16.037706Z"
    }
   },
   "outputs": [],
   "source": [
    "import pandas as pd\n",
    "import numpy as np\n",
    "import matplotlib.pyplot as plt\n",
    "\n",
    "from pandas.tools.plotting import autocorrelation_plot\n",
    "from statsmodels.graphics.tsaplots import plot_pacf, plot_acf\n",
    "from statsmodels.tsa.arima_model import ARIMA, ARMAResults\n",
    "\n",
    "import datetime\n",
    "import time\n",
    "import sys\n",
    "import seaborn as sns\n",
    "import statsmodels\n",
    "import statsmodels.api as sm\n",
    "import statsmodels.stats.diagnostic as diag\n",
    "\n",
    "from statsmodels.tsa.stattools import adfuller\n",
    "from scipy.stats.mstats import normaltest\n",
    "from matplotlib.pyplot import acorr\n",
    "plt.style.use('fivethirtyeight')\n",
    "\n",
    "%matplotlib inline"
   ]
  },
  {
   "cell_type": "code",
   "execution_count": 3,
   "metadata": {
    "ExecuteTime": {
     "end_time": "2018-11-26T05:34:21.745472Z",
     "start_time": "2018-11-26T05:34:17.828915Z"
    }
   },
   "outputs": [
    {
     "data": {
      "text/html": [
       "<div>\n",
       "<style scoped>\n",
       "    .dataframe tbody tr th:only-of-type {\n",
       "        vertical-align: middle;\n",
       "    }\n",
       "\n",
       "    .dataframe tbody tr th {\n",
       "        vertical-align: top;\n",
       "    }\n",
       "\n",
       "    .dataframe thead th {\n",
       "        text-align: right;\n",
       "    }\n",
       "</style>\n",
       "<table border=\"1\" class=\"dataframe\">\n",
       "  <thead>\n",
       "    <tr style=\"text-align: right;\">\n",
       "      <th></th>\n",
       "      <th>DATE</th>\n",
       "      <th>SP500</th>\n",
       "      <th>NASDAQ.AAL</th>\n",
       "      <th>NASDAQ.AAPL</th>\n",
       "      <th>NASDAQ.ADBE</th>\n",
       "      <th>NASDAQ.ADI</th>\n",
       "      <th>NASDAQ.ADP</th>\n",
       "      <th>NASDAQ.ADSK</th>\n",
       "      <th>NASDAQ.AKAM</th>\n",
       "      <th>NASDAQ.ALXN</th>\n",
       "      <th>...</th>\n",
       "      <th>NYSE.WYN</th>\n",
       "      <th>NYSE.XEC</th>\n",
       "      <th>NYSE.XEL</th>\n",
       "      <th>NYSE.XL</th>\n",
       "      <th>NYSE.XOM</th>\n",
       "      <th>NYSE.XRX</th>\n",
       "      <th>NYSE.XYL</th>\n",
       "      <th>NYSE.YUM</th>\n",
       "      <th>NYSE.ZBH</th>\n",
       "      <th>NYSE.ZTS</th>\n",
       "    </tr>\n",
       "  </thead>\n",
       "  <tbody>\n",
       "    <tr>\n",
       "      <th>0</th>\n",
       "      <td>1491226200</td>\n",
       "      <td>2363.6101</td>\n",
       "      <td>42.3300</td>\n",
       "      <td>143.6800</td>\n",
       "      <td>129.6300</td>\n",
       "      <td>82.040</td>\n",
       "      <td>102.2300</td>\n",
       "      <td>85.2200</td>\n",
       "      <td>59.760</td>\n",
       "      <td>121.52</td>\n",
       "      <td>...</td>\n",
       "      <td>84.370</td>\n",
       "      <td>119.035</td>\n",
       "      <td>44.40</td>\n",
       "      <td>39.88</td>\n",
       "      <td>82.03</td>\n",
       "      <td>7.36</td>\n",
       "      <td>50.22</td>\n",
       "      <td>63.86</td>\n",
       "      <td>122.000</td>\n",
       "      <td>53.350</td>\n",
       "    </tr>\n",
       "    <tr>\n",
       "      <th>1</th>\n",
       "      <td>1491226260</td>\n",
       "      <td>2364.1001</td>\n",
       "      <td>42.3600</td>\n",
       "      <td>143.7000</td>\n",
       "      <td>130.3200</td>\n",
       "      <td>82.080</td>\n",
       "      <td>102.1400</td>\n",
       "      <td>85.6500</td>\n",
       "      <td>59.840</td>\n",
       "      <td>121.48</td>\n",
       "      <td>...</td>\n",
       "      <td>84.370</td>\n",
       "      <td>119.035</td>\n",
       "      <td>44.11</td>\n",
       "      <td>39.88</td>\n",
       "      <td>82.03</td>\n",
       "      <td>7.38</td>\n",
       "      <td>50.22</td>\n",
       "      <td>63.74</td>\n",
       "      <td>121.770</td>\n",
       "      <td>53.350</td>\n",
       "    </tr>\n",
       "    <tr>\n",
       "      <th>2</th>\n",
       "      <td>1491226320</td>\n",
       "      <td>2362.6799</td>\n",
       "      <td>42.3100</td>\n",
       "      <td>143.6901</td>\n",
       "      <td>130.2250</td>\n",
       "      <td>82.030</td>\n",
       "      <td>102.2125</td>\n",
       "      <td>85.5100</td>\n",
       "      <td>59.795</td>\n",
       "      <td>121.93</td>\n",
       "      <td>...</td>\n",
       "      <td>84.585</td>\n",
       "      <td>119.260</td>\n",
       "      <td>44.09</td>\n",
       "      <td>39.98</td>\n",
       "      <td>82.02</td>\n",
       "      <td>7.36</td>\n",
       "      <td>50.12</td>\n",
       "      <td>63.75</td>\n",
       "      <td>121.700</td>\n",
       "      <td>53.365</td>\n",
       "    </tr>\n",
       "    <tr>\n",
       "      <th>3</th>\n",
       "      <td>1491226380</td>\n",
       "      <td>2364.3101</td>\n",
       "      <td>42.3700</td>\n",
       "      <td>143.6400</td>\n",
       "      <td>130.0729</td>\n",
       "      <td>82.000</td>\n",
       "      <td>102.1400</td>\n",
       "      <td>85.4872</td>\n",
       "      <td>59.620</td>\n",
       "      <td>121.44</td>\n",
       "      <td>...</td>\n",
       "      <td>84.460</td>\n",
       "      <td>119.260</td>\n",
       "      <td>44.25</td>\n",
       "      <td>39.99</td>\n",
       "      <td>82.02</td>\n",
       "      <td>7.35</td>\n",
       "      <td>50.16</td>\n",
       "      <td>63.88</td>\n",
       "      <td>121.700</td>\n",
       "      <td>53.380</td>\n",
       "    </tr>\n",
       "    <tr>\n",
       "      <th>4</th>\n",
       "      <td>1491226440</td>\n",
       "      <td>2364.8501</td>\n",
       "      <td>42.5378</td>\n",
       "      <td>143.6600</td>\n",
       "      <td>129.8800</td>\n",
       "      <td>82.035</td>\n",
       "      <td>102.0600</td>\n",
       "      <td>85.7001</td>\n",
       "      <td>59.620</td>\n",
       "      <td>121.60</td>\n",
       "      <td>...</td>\n",
       "      <td>84.470</td>\n",
       "      <td>119.610</td>\n",
       "      <td>44.11</td>\n",
       "      <td>39.96</td>\n",
       "      <td>82.03</td>\n",
       "      <td>7.36</td>\n",
       "      <td>50.20</td>\n",
       "      <td>63.91</td>\n",
       "      <td>121.695</td>\n",
       "      <td>53.240</td>\n",
       "    </tr>\n",
       "  </tbody>\n",
       "</table>\n",
       "<p>5 rows × 502 columns</p>\n",
       "</div>"
      ],
      "text/plain": [
       "         DATE      SP500  NASDAQ.AAL  NASDAQ.AAPL  NASDAQ.ADBE  NASDAQ.ADI  \\\n",
       "0  1491226200  2363.6101     42.3300     143.6800     129.6300      82.040   \n",
       "1  1491226260  2364.1001     42.3600     143.7000     130.3200      82.080   \n",
       "2  1491226320  2362.6799     42.3100     143.6901     130.2250      82.030   \n",
       "3  1491226380  2364.3101     42.3700     143.6400     130.0729      82.000   \n",
       "4  1491226440  2364.8501     42.5378     143.6600     129.8800      82.035   \n",
       "\n",
       "   NASDAQ.ADP  NASDAQ.ADSK  NASDAQ.AKAM  NASDAQ.ALXN    ...     NYSE.WYN  \\\n",
       "0    102.2300      85.2200       59.760       121.52    ...       84.370   \n",
       "1    102.1400      85.6500       59.840       121.48    ...       84.370   \n",
       "2    102.2125      85.5100       59.795       121.93    ...       84.585   \n",
       "3    102.1400      85.4872       59.620       121.44    ...       84.460   \n",
       "4    102.0600      85.7001       59.620       121.60    ...       84.470   \n",
       "\n",
       "   NYSE.XEC  NYSE.XEL  NYSE.XL  NYSE.XOM  NYSE.XRX  NYSE.XYL  NYSE.YUM  \\\n",
       "0   119.035     44.40    39.88     82.03      7.36     50.22     63.86   \n",
       "1   119.035     44.11    39.88     82.03      7.38     50.22     63.74   \n",
       "2   119.260     44.09    39.98     82.02      7.36     50.12     63.75   \n",
       "3   119.260     44.25    39.99     82.02      7.35     50.16     63.88   \n",
       "4   119.610     44.11    39.96     82.03      7.36     50.20     63.91   \n",
       "\n",
       "   NYSE.ZBH  NYSE.ZTS  \n",
       "0   122.000    53.350  \n",
       "1   121.770    53.350  \n",
       "2   121.700    53.365  \n",
       "3   121.700    53.380  \n",
       "4   121.695    53.240  \n",
       "\n",
       "[5 rows x 502 columns]"
      ]
     },
     "execution_count": 3,
     "metadata": {},
     "output_type": "execute_result"
    }
   ],
   "source": [
    "df = pd.read_csv('data_stocks.csv')\n",
    "df.head()"
   ]
  },
  {
   "cell_type": "markdown",
   "metadata": {},
   "source": [
    "#### Renaming the 5 stocks for easier coding and references later and keeping a separate dataframe for each stock"
   ]
  },
  {
   "cell_type": "code",
   "execution_count": 4,
   "metadata": {
    "ExecuteTime": {
     "end_time": "2018-11-26T05:34:21.863128Z",
     "start_time": "2018-11-26T05:34:21.747441Z"
    }
   },
   "outputs": [],
   "source": [
    "df.rename(columns={'NASDAQ.AAPL': 'AAPL', 'NASDAQ.ADP': 'ADP', 'NASDAQ.CBOE': 'CBOE', \n",
    "                   'NASDAQ.CSCO': 'CSCO', 'NASDAQ.EBAY': 'EBAY'\n",
    "                  }, inplace=True)\n",
    "\n",
    "df_AAPL = df[[\"AAPL\"]]\n",
    "df_ADP = df[[\"ADP\"]]\n",
    "df_CBOE = df[[\"CBOE\"]]\n",
    "df_CSCO = df[[\"CSCO\"]]\n",
    "df_EBAY = df[[\"EBAY\"]]"
   ]
  },
  {
   "cell_type": "markdown",
   "metadata": {},
   "source": [
    "#### Now, predict one stock price at a time"
   ]
  },
  {
   "cell_type": "markdown",
   "metadata": {},
   "source": [
    "### (1) Time series forecasting for AAPL"
   ]
  },
  {
   "cell_type": "code",
   "execution_count": 5,
   "metadata": {
    "ExecuteTime": {
     "end_time": "2018-11-26T05:34:22.110502Z",
     "start_time": "2018-11-26T05:34:21.865123Z"
    }
   },
   "outputs": [
    {
     "data": {
      "text/plain": [
       "<matplotlib.axes._subplots.AxesSubplot at 0x21ad860d2b0>"
      ]
     },
     "execution_count": 5,
     "metadata": {},
     "output_type": "execute_result"
    },
    {
     "data": {
      "image/png": "[encoded data removed]",
      "text/plain": [
       "<Figure size 720x288 with 1 Axes>"
      ]
     },
     "metadata": {},
     "output_type": "display_data"
    }
   ],
   "source": [
    "# show plots in the notebook\n",
    "df_AAPL.plot(figsize=(10,4))"
   ]
  },
  {
   "cell_type": "markdown",
   "metadata": {},
   "source": [
    "#### Data shows a clear trend, and possible seasonality also <br>\n",
    "Since the dataset is NOT STATIONARY, the first step is to use differencing to make it a stationary time series"
   ]
  },
  {
   "cell_type": "code",
   "execution_count": 6,
   "metadata": {
    "ExecuteTime": {
     "end_time": "2018-11-26T05:34:22.242150Z",
     "start_time": "2018-11-26T05:34:22.111468Z"
    }
   },
   "outputs": [
    {
     "data": {
      "image/png": "[encoded data removed]",
      "text/plain": [
       "<Figure size 432x288 with 1 Axes>"
      ]
     },
     "metadata": {},
     "output_type": "display_data"
    }
   ],
   "source": [
    "from pandas import Series\n",
    "from matplotlib import pyplot\n",
    "series = df_AAPL\n",
    "series.hist()\n",
    "pyplot.show()"
   ]
  },
  {
   "cell_type": "markdown",
   "metadata": {},
   "source": [
    "#### The histogram shows that the stock prices were not normally distributed"
   ]
  },
  {
   "cell_type": "code",
   "execution_count": 7,
   "metadata": {
    "ExecuteTime": {
     "end_time": "2018-11-26T05:34:22.262062Z",
     "start_time": "2018-11-26T05:34:22.244113Z"
    }
   },
   "outputs": [
    {
     "name": "stdout",
     "output_type": "stream",
     "text": [
      "mean1=         146.987785, mean2=        148.207600, mean3=        156.165654\n",
      "variance1=     24.315737, variance2=    19.309152, variance2=    23.387876\n"
     ]
    }
   ],
   "source": [
    "from pandas import Series\n",
    "series = df_AAPL\n",
    "X = series.values\n",
    "L = len(X)\n",
    "split = int(L / 3)\n",
    "last = L-split\n",
    "X1, X2, X3 = X[0:split], X[split+1: last], X[last+1:]\n",
    "mean1, mean2, mean3 = X1.mean(), X2.mean(), X3.mean()\n",
    "var1, var2, var3 = X1.var(), X2.var(), X3.var()\n",
    "print('mean1=         %f, mean2=        %f, mean3=        %f' % (mean1, mean2, mean3))\n",
    "print('variance1=     %f, variance2=    %f, variance2=    %f' % (var1, var2, var3))"
   ]
  },
  {
   "cell_type": "markdown",
   "metadata": {},
   "source": [
    "#### The simple test again shows that means and variances are NOT consistent"
   ]
  },
  {
   "cell_type": "markdown",
   "metadata": {},
   "source": [
    "#### We may use Augmented Dickey Fuller Test to check for the statistical test of unit root (i.e. stationarity)\n",
    "#### Null Hypothesis: Series is NOT stationary; Alternate Hypothesis: Series is stationary\n",
    "##### So, p-value > 0.05 implies NON-STATIONARITY"
   ]
  },
  {
   "cell_type": "code",
   "execution_count": 8,
   "metadata": {
    "ExecuteTime": {
     "end_time": "2018-11-26T05:34:27.265685Z",
     "start_time": "2018-11-26T05:34:22.266068Z"
    }
   },
   "outputs": [
    {
     "name": "stdout",
     "output_type": "stream",
     "text": [
      "ADF Statistic: -0.912853\n",
      "p-value: 0.783710\n",
      "Critical Values:\n",
      "\t1%: -3.431\n",
      "\t5%: -2.862\n",
      "\t10%: -2.567\n"
     ]
    }
   ],
   "source": [
    "from pandas import Series\n",
    "from statsmodels.tsa.stattools import adfuller\n",
    "\n",
    "series = df['AAPL'].dropna()\n",
    "X = series.values\n",
    "result = adfuller(X)\n",
    "print('ADF Statistic: %f' % result[0])\n",
    "print('p-value: %f' % result[1])\n",
    "print('Critical Values:')\n",
    "\n",
    "for key, value in result[4].items():\n",
    "    print('\\t%s: %.3f' % (key, value))"
   ]
  },
  {
   "cell_type": "markdown",
   "metadata": {},
   "source": [
    "#### Here, p-value > 0.05, which means Null Hypothesis cannot be rejected, and thus the series is NOT STATIONARY"
   ]
  },
  {
   "cell_type": "markdown",
   "metadata": {},
   "source": [
    "#### Let us do a simple log transformation to check if it makes it stationary"
   ]
  },
  {
   "cell_type": "code",
   "execution_count": 9,
   "metadata": {
    "ExecuteTime": {
     "end_time": "2018-11-26T05:34:27.520005Z",
     "start_time": "2018-11-26T05:34:27.268678Z"
    }
   },
   "outputs": [
    {
     "name": "stdout",
     "output_type": "stream",
     "text": [
      "mean1=         4.989793, mean2=        4.998178, mean3=        5.050435\n",
      "variance1=     0.001107, variance2=    0.000867, variance2=    0.000968\n"
     ]
    },
    {
     "data": {
      "text/plain": [
       "<matplotlib.axes._subplots.AxesSubplot at 0x21ad89ff668>"
      ]
     },
     "execution_count": 9,
     "metadata": {},
     "output_type": "execute_result"
    },
    {
     "data": {
      "image/png": "[encoded data removed]",
      "text/plain": [
       "<Figure size 720x288 with 1 Axes>"
      ]
     },
     "metadata": {},
     "output_type": "display_data"
    }
   ],
   "source": [
    "from pandas import Series\n",
    "from numpy import log\n",
    "\n",
    "series = df_AAPL\n",
    "X = series.values\n",
    "X = log(X)\n",
    "L = len(X)\n",
    "split = int(L / 3)\n",
    "last = L-split\n",
    "X1, X2, X3 = X[0:split], X[split+1: last], X[last+1:]\n",
    "mean1, mean2, mean3 = X1.mean(), X2.mean(), X3.mean()\n",
    "var1, var2, var3 = X1.var(), X2.var(), X3.var()\n",
    "print('mean1=         %f, mean2=        %f, mean3=        %f' % (mean1, mean2, mean3))\n",
    "print('variance1=     %f, variance2=    %f, variance2=    %f' % (var1, var2, var3))\n",
    "\n",
    "# Checking the plots to see if log transformation has made it stationary or not\n",
    "\n",
    "df['logAAPL']= np.log(df['AAPL'])\n",
    "df['logAAPL'].plot(figsize=(10,4))"
   ]
  },
  {
   "cell_type": "markdown",
   "metadata": {},
   "source": [
    "#### Numbers and chart above show that the log series is NOT stationary"
   ]
  },
  {
   "cell_type": "markdown",
   "metadata": {},
   "source": [
    "#### First differencing may be the next trial run to see if this makes the series stationary"
   ]
  },
  {
   "cell_type": "code",
   "execution_count": 10,
   "metadata": {
    "ExecuteTime": {
     "end_time": "2018-11-26T05:34:27.747424Z",
     "start_time": "2018-11-26T05:34:27.523994Z"
    }
   },
   "outputs": [
    {
     "data": {
      "text/plain": [
       "<matplotlib.axes._subplots.AxesSubplot at 0x21a81cda400>"
      ]
     },
     "execution_count": 10,
     "metadata": {},
     "output_type": "execute_result"
    },
    {
     "data": {
      "image/png": "[encoded data removed]",
      "text/plain": [
       "<Figure size 720x288 with 1 Axes>"
      ]
     },
     "metadata": {},
     "output_type": "display_data"
    }
   ],
   "source": [
    "#df_AAPL.plot(figsize=(10,4))\n",
    "df['dif_AAPL'] = df['AAPL'] - df['AAPL'].shift(periods=-1)\n",
    "df['dif_AAPL'].plot(figsize=(10,4))"
   ]
  },
  {
   "cell_type": "code",
   "execution_count": 11,
   "metadata": {
    "ExecuteTime": {
     "end_time": "2018-11-26T05:34:32.757003Z",
     "start_time": "2018-11-26T05:34:27.749396Z"
    }
   },
   "outputs": [
    {
     "name": "stdout",
     "output_type": "stream",
     "text": [
      "ADF Statistic: -35.737741\n",
      "p-value: 0.000000\n",
      "Critical Values:\n",
      "\t1%: -3.431\n",
      "\t5%: -2.862\n",
      "\t10%: -2.567\n"
     ]
    }
   ],
   "source": [
    "from pandas import Series\n",
    "from statsmodels.tsa.stattools import adfuller\n",
    "\n",
    "series = df['dif_AAPL'].dropna()\n",
    "X = series.values\n",
    "result = adfuller(X)\n",
    "print('ADF Statistic: %f' % result[0])\n",
    "print('p-value: %f' % result[1])\n",
    "print('Critical Values:')\n",
    "\n",
    "for key, value in result[4].items():\n",
    "    print('\\t%s: %.3f' % (key, value))\n"
   ]
  },
  {
   "cell_type": "markdown",
   "metadata": {},
   "source": [
    "#### Here, p-value = 0, which is < 0.05; We may reject the NULL Hypothesis; So, the series with first differencing is stationary!!"
   ]
  },
  {
   "cell_type": "markdown",
   "metadata": {},
   "source": [
    "#### Now, evaluating if the log first difference is also stationary"
   ]
  },
  {
   "cell_type": "code",
   "execution_count": 12,
   "metadata": {
    "ExecuteTime": {
     "end_time": "2018-11-26T05:34:37.831437Z",
     "start_time": "2018-11-26T05:34:32.759000Z"
    }
   },
   "outputs": [
    {
     "name": "stdout",
     "output_type": "stream",
     "text": [
      "ADF Statistic: -35.706087\n",
      "p-value: 0.000000\n",
      "Critical Values:\n",
      "\t1%: -3.431\n",
      "\t5%: -2.862\n",
      "\t10%: -2.567\n"
     ]
    },
    {
     "data": {
      "image/png": "[encoded data removed]",
      "text/plain": [
       "<Figure size 720x288 with 1 Axes>"
      ]
     },
     "metadata": {},
     "output_type": "display_data"
    }
   ],
   "source": [
    "df['diflogAAPL'] = df['logAAPL'] - df['logAAPL'].shift(periods=-1)\n",
    "df['diflogAAPL'].plot(figsize=(10,4))\n",
    "\n",
    "from pandas import Series\n",
    "from statsmodels.tsa.stattools import adfuller\n",
    "\n",
    "series = df['diflogAAPL'].dropna()\n",
    "X = series.values\n",
    "result = adfuller(X)\n",
    "print('ADF Statistic: %f' % result[0])\n",
    "print('p-value: %f' % result[1])\n",
    "print('Critical Values:')\n",
    "\n",
    "for key, value in result[4].items():\n",
    "    print('\\t%s: %.3f' % (key, value))"
   ]
  },
  {
   "cell_type": "markdown",
   "metadata": {},
   "source": [
    "#### Since p-value = 0, this log-first-difference series is STATIONARY; we can now proceed with ARIMA modeling"
   ]
  },
  {
   "cell_type": "markdown",
   "metadata": {},
   "source": [
    "##### ---------------------------------------------------------------"
   ]
  },
  {
   "cell_type": "markdown",
   "metadata": {},
   "source": [
    "#### Now, lets check for autocorrelations"
   ]
  },
  {
   "cell_type": "code",
   "execution_count": 13,
   "metadata": {
    "ExecuteTime": {
     "end_time": "2018-11-26T05:34:37.842412Z",
     "start_time": "2018-11-26T05:34:37.834429Z"
    }
   },
   "outputs": [
    {
     "data": {
      "text/plain": [
       "2.0184420398643126"
      ]
     },
     "execution_count": 13,
     "metadata": {},
     "output_type": "execute_result"
    }
   ],
   "source": [
    "sm.stats.durbin_watson(df['diflogAAPL'].dropna())"
   ]
  },
  {
   "cell_type": "markdown",
   "metadata": {},
   "source": [
    "The value of Durbin-Watson statistic is close to 2 if the errors are uncorrelated. <br>\n",
    "In this case, it is 2. <br>\n",
    "That means that there is a strong evidence that there is zero autocorrelation.<br>"
   ]
  },
  {
   "cell_type": "code",
   "execution_count": 14,
   "metadata": {
    "ExecuteTime": {
     "end_time": "2018-11-26T05:34:38.356034Z",
     "start_time": "2018-11-26T05:34:37.844402Z"
    }
   },
   "outputs": [
    {
     "data": {
      "image/png": "[encoded data removed]",
      "text/plain": [
       "<Figure size 720x288 with 2 Axes>"
      ]
     },
     "metadata": {},
     "output_type": "display_data"
    }
   ],
   "source": [
    "# Lets plot ACF and PACF plots\n",
    "\n",
    "fig = plt.figure(figsize=(10,4))\n",
    "ax1 = fig.add_subplot(211)\n",
    "fig = sm.graphics.tsa.plot_acf(df['diflogAAPL'].values.squeeze(), lags=40, ax=ax1)\n",
    "ax2 = fig.add_subplot(212)\n",
    "fig = sm.graphics.tsa.plot_pacf(df['diflogAAPL'], lags=40, ax=ax2)"
   ]
  },
  {
   "cell_type": "markdown",
   "metadata": {},
   "source": [
    "#### ACF graph validates that there is zero autocorrelation - so, p = 0\n",
    "#### PACF graph shows spike only at zero, so q = 0"
   ]
  },
  {
   "cell_type": "code",
   "execution_count": 15,
   "metadata": {
    "ExecuteTime": {
     "end_time": "2018-11-26T05:34:39.156920Z",
     "start_time": "2018-11-26T05:34:38.359028Z"
    }
   },
   "outputs": [],
   "source": [
    "df['DATE_F'] = df.DATE.apply(lambda x:time.strftime('%Y-%m-%d %H:%M:%S', time.localtime(x)))\n",
    "\n",
    "df['logAAPL']= np.log(df['AAPL'])\n",
    "df['diflogAAPL'] = df['logAAPL'] - df['logAAPL'].shift(periods=-1) # first difference as earlier identified\n",
    "\n",
    "df = df.dropna()\n",
    "\n",
    "# Splitting the data into 2 - for model fit and for test\n",
    "\n",
    "data = df[['DATE','DATE_F','AAPL','logAAPL','diflogAAPL']][:-100]\n",
    "test = df[['DATE','DATE_F','AAPL','logAAPL','diflogAAPL']][-100:]\n"
   ]
  },
  {
   "cell_type": "markdown",
   "metadata": {},
   "source": [
    "#### Using AIC score to identify the best combination of p, d, q parameters for ARIMA"
   ]
  },
  {
   "cell_type": "code",
   "execution_count": 16,
   "metadata": {
    "ExecuteTime": {
     "end_time": "2018-11-26T05:35:24.666218Z",
     "start_time": "2018-11-26T05:34:39.159890Z"
    }
   },
   "outputs": [
    {
     "name": "stderr",
     "output_type": "stream",
     "text": [
      "C:\\Anaconda3\\lib\\site-packages\\ipykernel_launcher.py:1: FutureWarning: Method .as_matrix will be removed in a future version. Use .values instead.\n",
      "  \"\"\"Entry point for launching an IPython kernel.\n",
      "C:\\Anaconda3\\lib\\site-packages\\scipy\\signal\\signaltools.py:1341: FutureWarning: Using a non-tuple sequence for multidimensional indexing is deprecated; use `arr[tuple(seq)]` instead of `arr[seq]`. In the future this will be interpreted as an array index, `arr[np.array(seq)]`, which will result either in an error or a different result.\n",
      "  out_full[ind] += zi\n",
      "C:\\Anaconda3\\lib\\site-packages\\scipy\\signal\\signaltools.py:1344: FutureWarning: Using a non-tuple sequence for multidimensional indexing is deprecated; use `arr[tuple(seq)]` instead of `arr[seq]`. In the future this will be interpreted as an array index, `arr[np.array(seq)]`, which will result either in an error or a different result.\n",
      "  out = out_full[ind]\n",
      "C:\\Anaconda3\\lib\\site-packages\\scipy\\signal\\signaltools.py:1350: FutureWarning: Using a non-tuple sequence for multidimensional indexing is deprecated; use `arr[tuple(seq)]` instead of `arr[seq]`. In the future this will be interpreted as an array index, `arr[np.array(seq)]`, which will result either in an error or a different result.\n",
      "  zf = out_full[ind]\n"
     ]
    },
    {
     "name": "stdout",
     "output_type": "stream",
     "text": [
      "(0, 1, 0) -491424.29994187644\n",
      "(0, 1, 1) -491425.9256926867\n",
      "(0, 1, 2) -491436.9839898711\n",
      "(1, 1, 0) -491425.80221777863\n"
     ]
    },
    {
     "name": "stderr",
     "output_type": "stream",
     "text": [
      "C:\\Anaconda3\\lib\\site-packages\\statsmodels\\base\\model.py:488: HessianInversionWarning: Inverting hessian failed, no bse or cov_params available\n",
      "  'available', HessianInversionWarning)\n"
     ]
    },
    {
     "name": "stdout",
     "output_type": "stream",
     "text": [
      "(1, 1, 1) -491426.28808854416\n",
      "(1, 1, 2) -491437.6769410524\n",
      "(2, 1, 0) -491436.7200997984\n",
      "(2, 1, 1) -491437.1244589988\n",
      "Best Model is : (1, 1, 2)\n"
     ]
    }
   ],
   "source": [
    "ararray = (data.logAAPL.dropna().as_matrix())\n",
    "\n",
    "p=0\n",
    "q=0\n",
    "d=1\n",
    "pdq=[]\n",
    "aic=[]\n",
    "\n",
    "for p in range(3):\n",
    "    for q in range(3):\n",
    "        try:\n",
    "            model = ARIMA(ararray, (p,d,q)).fit()\n",
    "            x = model.aic\n",
    "            x1 = (p,d,q)\n",
    "            \n",
    "            print (x1, x)\n",
    "            aic.append(x)\n",
    "            pdq.append(x1)\n",
    "        except:\n",
    "            pass\n",
    "                        \n",
    "keys = pdq\n",
    "values = aic\n",
    "d = dict(zip(keys, values))\n",
    "minaic=min(d, key=d.get)\n",
    "\n",
    "for i in range(3):\n",
    "    p=minaic[0]\n",
    "    d=minaic[1]\n",
    "    q=minaic[2]\n",
    "print (\"Best Model is :\", (p,d,q))\n"
   ]
  },
  {
   "cell_type": "markdown",
   "metadata": {},
   "source": [
    "#### Now, to use the identified p, d, q parameters to fit the ARIMA model"
   ]
  },
  {
   "cell_type": "code",
   "execution_count": 17,
   "metadata": {
    "ExecuteTime": {
     "end_time": "2018-11-26T05:35:36.762876Z",
     "start_time": "2018-11-26T05:35:24.669210Z"
    }
   },
   "outputs": [],
   "source": [
    "ARIMIAmod = ARIMA(ararray, (p,d,q)).fit()"
   ]
  },
  {
   "cell_type": "code",
   "execution_count": 18,
   "metadata": {
    "ExecuteTime": {
     "end_time": "2018-11-26T05:35:36.782823Z",
     "start_time": "2018-11-26T05:35:36.764871Z"
    }
   },
   "outputs": [
    {
     "data": {
      "text/plain": [
       "array([4.9675918 , 4.96772973, 4.96766032, ..., 5.09913551, 5.09931256,\n",
       "       5.09913796])"
      ]
     },
     "execution_count": 18,
     "metadata": {},
     "output_type": "execute_result"
    }
   ],
   "source": [
    "ARIMIAmod.predict(typ = 'levels')"
   ]
  },
  {
   "cell_type": "code",
   "execution_count": 19,
   "metadata": {
    "ExecuteTime": {
     "end_time": "2018-11-26T05:35:36.862610Z",
     "start_time": "2018-11-26T05:35:36.785815Z"
    }
   },
   "outputs": [
    {
     "data": {
      "text/html": [
       "<div>\n",
       "<style scoped>\n",
       "    .dataframe tbody tr th:only-of-type {\n",
       "        vertical-align: middle;\n",
       "    }\n",
       "\n",
       "    .dataframe tbody tr th {\n",
       "        vertical-align: top;\n",
       "    }\n",
       "\n",
       "    .dataframe thead th {\n",
       "        text-align: right;\n",
       "    }\n",
       "</style>\n",
       "<table border=\"1\" class=\"dataframe\">\n",
       "  <thead>\n",
       "    <tr style=\"text-align: right;\">\n",
       "      <th></th>\n",
       "      <th>DATE</th>\n",
       "      <th>DATE_F</th>\n",
       "      <th>AAPL</th>\n",
       "      <th>logAAPL</th>\n",
       "      <th>diflogAAPL</th>\n",
       "      <th>predict</th>\n",
       "    </tr>\n",
       "  </thead>\n",
       "  <tbody>\n",
       "    <tr>\n",
       "      <th>0</th>\n",
       "      <td>1491226200</td>\n",
       "      <td>2017-04-03 19:00:00</td>\n",
       "      <td>143.6800</td>\n",
       "      <td>4.967589</td>\n",
       "      <td>-0.000139</td>\n",
       "      <td>NaN</td>\n",
       "    </tr>\n",
       "    <tr>\n",
       "      <th>1</th>\n",
       "      <td>1491226260</td>\n",
       "      <td>2017-04-03 19:01:00</td>\n",
       "      <td>143.7000</td>\n",
       "      <td>4.967728</td>\n",
       "      <td>0.000069</td>\n",
       "      <td>4.967592</td>\n",
       "    </tr>\n",
       "    <tr>\n",
       "      <th>2</th>\n",
       "      <td>1491226320</td>\n",
       "      <td>2017-04-03 19:02:00</td>\n",
       "      <td>143.6901</td>\n",
       "      <td>4.967659</td>\n",
       "      <td>0.000349</td>\n",
       "      <td>4.967730</td>\n",
       "    </tr>\n",
       "    <tr>\n",
       "      <th>3</th>\n",
       "      <td>1491226380</td>\n",
       "      <td>2017-04-03 19:03:00</td>\n",
       "      <td>143.6400</td>\n",
       "      <td>4.967310</td>\n",
       "      <td>-0.000139</td>\n",
       "      <td>4.967660</td>\n",
       "    </tr>\n",
       "    <tr>\n",
       "      <th>4</th>\n",
       "      <td>1491226440</td>\n",
       "      <td>2017-04-03 19:04:00</td>\n",
       "      <td>143.6600</td>\n",
       "      <td>4.967449</td>\n",
       "      <td>-0.000835</td>\n",
       "      <td>4.967319</td>\n",
       "    </tr>\n",
       "  </tbody>\n",
       "</table>\n",
       "</div>"
      ],
      "text/plain": [
       "         DATE               DATE_F      AAPL   logAAPL  diflogAAPL   predict\n",
       "0  1491226200  2017-04-03 19:00:00  143.6800  4.967589   -0.000139       NaN\n",
       "1  1491226260  2017-04-03 19:01:00  143.7000  4.967728    0.000069  4.967592\n",
       "2  1491226320  2017-04-03 19:02:00  143.6901  4.967659    0.000349  4.967730\n",
       "3  1491226380  2017-04-03 19:03:00  143.6400  4.967310   -0.000139  4.967660\n",
       "4  1491226440  2017-04-03 19:04:00  143.6600  4.967449   -0.000835  4.967319"
      ]
     },
     "execution_count": 19,
     "metadata": {},
     "output_type": "execute_result"
    }
   ],
   "source": [
    "data.loc[1:, 'predict'] = ARIMIAmod.predict(typ='levels')\n",
    "data.head()"
   ]
  },
  {
   "cell_type": "code",
   "execution_count": 20,
   "metadata": {
    "ExecuteTime": {
     "end_time": "2018-11-26T05:35:37.199720Z",
     "start_time": "2018-11-26T05:35:36.867597Z"
    }
   },
   "outputs": [
    {
     "data": {
      "text/plain": [
       "<matplotlib.legend.Legend at 0x21a81d79a90>"
      ]
     },
     "execution_count": 20,
     "metadata": {},
     "output_type": "execute_result"
    },
    {
     "data": {
      "image/png": "[encoded data removed]",
      "text/plain": [
       "<Figure size 432x288 with 1 Axes>"
      ]
     },
     "metadata": {},
     "output_type": "display_data"
    }
   ],
   "source": [
    "plt.plot(data['logAAPL'][1:], label='original')\n",
    "plt.plot(data.predict[1:], label='predict')\n",
    "plt.legend()"
   ]
  },
  {
   "cell_type": "code",
   "execution_count": 21,
   "metadata": {
    "ExecuteTime": {
     "end_time": "2018-11-26T05:35:37.219655Z",
     "start_time": "2018-11-26T05:35:37.201705Z"
    }
   },
   "outputs": [
    {
     "data": {
      "text/plain": [
       "array([[5.0978687 , 5.10029291],\n",
       "       [5.09737787, 5.10079031],\n",
       "       [5.09701322, 5.10116129],\n",
       "       [5.09670147, 5.10147944],\n",
       "       [5.09642749, 5.10175979],\n",
       "       [5.0961795 , 5.10201417],\n",
       "       [5.09595155, 5.1022485 ],\n",
       "       [5.09573943, 5.102467  ],\n",
       "       [5.09554029, 5.10267253],\n",
       "       [5.09535203, 5.10286717]])"
      ]
     },
     "execution_count": 21,
     "metadata": {},
     "output_type": "execute_result"
    }
   ],
   "source": [
    "numofsteps = 10\n",
    "stepahead = ARIMIAmod.forecast(numofsteps)[0]\n",
    "ferrors = ARIMIAmod.forecast(numofsteps)[2]\n",
    "ferrors"
   ]
  },
  {
   "cell_type": "code",
   "execution_count": 22,
   "metadata": {
    "ExecuteTime": {
     "end_time": "2018-11-26T05:35:37.254568Z",
     "start_time": "2018-11-26T05:35:37.222647Z"
    }
   },
   "outputs": [
    {
     "data": {
      "text/html": [
       "<div>\n",
       "<style scoped>\n",
       "    .dataframe tbody tr th:only-of-type {\n",
       "        vertical-align: middle;\n",
       "    }\n",
       "\n",
       "    .dataframe tbody tr th {\n",
       "        vertical-align: top;\n",
       "    }\n",
       "\n",
       "    .dataframe thead th {\n",
       "        text-align: right;\n",
       "    }\n",
       "</style>\n",
       "<table border=\"1\" class=\"dataframe\">\n",
       "  <thead>\n",
       "    <tr style=\"text-align: right;\">\n",
       "      <th></th>\n",
       "      <th>DATE</th>\n",
       "      <th>DATE_F</th>\n",
       "      <th>AAPL</th>\n",
       "      <th>logAAPL</th>\n",
       "      <th>diflogAAPL</th>\n",
       "      <th>predict</th>\n",
       "      <th>error</th>\n",
       "      <th>sqrError</th>\n",
       "      <th>absError</th>\n",
       "    </tr>\n",
       "  </thead>\n",
       "  <tbody>\n",
       "    <tr>\n",
       "      <th>0</th>\n",
       "      <td>1491226200</td>\n",
       "      <td>2017-04-03 19:00:00</td>\n",
       "      <td>143.6800</td>\n",
       "      <td>4.967589</td>\n",
       "      <td>-0.000139</td>\n",
       "      <td>NaN</td>\n",
       "      <td>NaN</td>\n",
       "      <td>NaN</td>\n",
       "      <td>NaN</td>\n",
       "    </tr>\n",
       "    <tr>\n",
       "      <th>1</th>\n",
       "      <td>1491226260</td>\n",
       "      <td>2017-04-03 19:01:00</td>\n",
       "      <td>143.7000</td>\n",
       "      <td>4.967728</td>\n",
       "      <td>0.000069</td>\n",
       "      <td>4.967592</td>\n",
       "      <td>0.000136</td>\n",
       "      <td>1.849506e-08</td>\n",
       "      <td>0.000136</td>\n",
       "    </tr>\n",
       "    <tr>\n",
       "      <th>2</th>\n",
       "      <td>1491226320</td>\n",
       "      <td>2017-04-03 19:02:00</td>\n",
       "      <td>143.6901</td>\n",
       "      <td>4.967659</td>\n",
       "      <td>0.000349</td>\n",
       "      <td>4.967730</td>\n",
       "      <td>-0.000071</td>\n",
       "      <td>5.017208e-09</td>\n",
       "      <td>0.000071</td>\n",
       "    </tr>\n",
       "    <tr>\n",
       "      <th>3</th>\n",
       "      <td>1491226380</td>\n",
       "      <td>2017-04-03 19:03:00</td>\n",
       "      <td>143.6400</td>\n",
       "      <td>4.967310</td>\n",
       "      <td>-0.000139</td>\n",
       "      <td>4.967660</td>\n",
       "      <td>-0.000350</td>\n",
       "      <td>1.226073e-07</td>\n",
       "      <td>0.000350</td>\n",
       "    </tr>\n",
       "    <tr>\n",
       "      <th>4</th>\n",
       "      <td>1491226440</td>\n",
       "      <td>2017-04-03 19:04:00</td>\n",
       "      <td>143.6600</td>\n",
       "      <td>4.967449</td>\n",
       "      <td>-0.000835</td>\n",
       "      <td>4.967319</td>\n",
       "      <td>0.000131</td>\n",
       "      <td>1.710611e-08</td>\n",
       "      <td>0.000131</td>\n",
       "    </tr>\n",
       "  </tbody>\n",
       "</table>\n",
       "</div>"
      ],
      "text/plain": [
       "         DATE               DATE_F      AAPL   logAAPL  diflogAAPL   predict  \\\n",
       "0  1491226200  2017-04-03 19:00:00  143.6800  4.967589   -0.000139       NaN   \n",
       "1  1491226260  2017-04-03 19:01:00  143.7000  4.967728    0.000069  4.967592   \n",
       "2  1491226320  2017-04-03 19:02:00  143.6901  4.967659    0.000349  4.967730   \n",
       "3  1491226380  2017-04-03 19:03:00  143.6400  4.967310   -0.000139  4.967660   \n",
       "4  1491226440  2017-04-03 19:04:00  143.6600  4.967449   -0.000835  4.967319   \n",
       "\n",
       "      error      sqrError  absError  \n",
       "0       NaN           NaN       NaN  \n",
       "1  0.000136  1.849506e-08  0.000136  \n",
       "2 -0.000071  5.017208e-09  0.000071  \n",
       "3 -0.000350  1.226073e-07  0.000350  \n",
       "4  0.000131  1.710611e-08  0.000131  "
      ]
     },
     "execution_count": 22,
     "metadata": {},
     "output_type": "execute_result"
    }
   ],
   "source": [
    "data['error'] = (data['logAAPL'] - data['predict'])\n",
    "data['sqrError'] = np.square(data['error'])\n",
    "data['absError'] = np.abs(data['error'])\n",
    "data.head()"
   ]
  },
  {
   "cell_type": "code",
   "execution_count": 23,
   "metadata": {
    "ExecuteTime": {
     "end_time": "2018-11-26T05:35:37.700369Z",
     "start_time": "2018-11-26T05:35:37.260546Z"
    }
   },
   "outputs": [
    {
     "data": {
      "text/plain": [
       "Text(0.5,0,'Month')"
      ]
     },
     "execution_count": 23,
     "metadata": {},
     "output_type": "execute_result"
    },
    {
     "data": {
      "image/png": "[encoded data removed]",
      "text/plain": [
       "<Figure size 720x288 with 3 Axes>"
      ]
     },
     "metadata": {},
     "output_type": "display_data"
    }
   ],
   "source": [
    "fig, ax = plt.subplots(figsize=(10,4))\n",
    "\n",
    "plt.subplot(3, 1, 1)\n",
    "plt.plot(data.error, label = \"Residual\")\n",
    "plt.title(\"Residuals of Model\", size = 10,)\n",
    "plt.ylabel(\"Error\", size = 10)\n",
    "plt.xlabel('Month', size = 10)\n",
    "\n",
    "plt.subplot(3, 1, 2)\n",
    "plt.plot(data.sqrError, label = 'Residual Squared', color = 'r')\n",
    "plt.title(\"Residuals of Model Squared\", size = 10,)\n",
    "plt.ylabel(\"Error Squared\", size = 10)\n",
    "plt.xlabel('Month', size = 10)\n",
    "\n",
    "plt.subplot(3, 1, 3)\n",
    "plt.plot(data.absError, label = 'Residual Squared', color = 'r')\n",
    "plt.title(\"Residuals of Model Abs\", size = 10,)\n",
    "plt.ylabel(\"Error Squared\", size = 10)\n",
    "plt.xlabel('Month', size = 10)"
   ]
  },
  {
   "cell_type": "code",
   "execution_count": 24,
   "metadata": {
    "ExecuteTime": {
     "end_time": "2018-11-26T05:35:38.457347Z",
     "start_time": "2018-11-26T05:35:37.702366Z"
    }
   },
   "outputs": [
    {
     "data": {
      "text/plain": [
       "Text(0,0.5,'ACF')"
      ]
     },
     "execution_count": 24,
     "metadata": {},
     "output_type": "execute_result"
    },
    {
     "data": {
      "image/png": "[encoded data removed]",
      "text/plain": [
       "<Figure size 720x288 with 1 Axes>"
      ]
     },
     "metadata": {},
     "output_type": "display_data"
    },
    {
     "data": {
      "image/png": "[encoded data removed]",
      "text/plain": [
       "<Figure size 720x288 with 1 Axes>"
      ]
     },
     "metadata": {},
     "output_type": "display_data"
    }
   ],
   "source": [
    "fig, ax = plt.subplots(figsize=(10,4))\n",
    "\n",
    "plot_acf(data.error, lags = 25, ax = ax)\n",
    "ax.set_title('ACF Error')\n",
    "ax.set_xlabel('Lags')\n",
    "ax.set_ylabel('ACF')\n",
    "\n",
    "fig, ax = plt.subplots(figsize=(10,4))\n",
    "\n",
    "plot_acf(data.sqrError, lags = 25, ax = ax)\n",
    "ax.set_title('ACF Squared Error')\n",
    "ax.set_xlabel('Lags')\n",
    "ax.set_ylabel('ACF')"
   ]
  },
  {
   "cell_type": "code",
   "execution_count": 25,
   "metadata": {
    "ExecuteTime": {
     "end_time": "2018-11-26T05:35:38.763541Z",
     "start_time": "2018-11-26T05:35:38.461337Z"
    }
   },
   "outputs": [
    {
     "data": {
      "text/plain": [
       "Text(0,0.5,'PACF')"
      ]
     },
     "execution_count": 25,
     "metadata": {},
     "output_type": "execute_result"
    },
    {
     "data": {
      "image/png": "[encoded data removed]",
      "text/plain": [
       "<Figure size 288x288 with 1 Axes>"
      ]
     },
     "metadata": {},
     "output_type": "display_data"
    },
    {
     "data": {
      "image/png": "[encoded data removed]",
      "text/plain": [
       "<Figure size 288x288 with 1 Axes>"
      ]
     },
     "metadata": {},
     "output_type": "display_data"
    }
   ],
   "source": [
    "fig, ax = plt.subplots(figsize=(4,4))\n",
    "\n",
    "plot_pacf(data.error, lags = 25, ax = ax)\n",
    "ax.set_title('Errors PACF')\n",
    "ax.set_xlabel('Lags')\n",
    "ax.set_ylabel('PACF')\n",
    "\n",
    "fig, ax = plt.subplots(figsize=(4,4))\n",
    "\n",
    "plot_pacf(data.sqrError, lags = 25, ax = ax)\n",
    "ax.set_title('Errors Squared PACF')\n",
    "ax.set_xlabel('Lags')\n",
    "ax.set_ylabel('PACF')"
   ]
  },
  {
   "cell_type": "code",
   "execution_count": 26,
   "metadata": {
    "ExecuteTime": {
     "end_time": "2018-11-26T05:35:38.954018Z",
     "start_time": "2018-11-26T05:35:38.765524Z"
    }
   },
   "outputs": [
    {
     "data": {
      "text/plain": [
       "[<matplotlib.lines.Line2D at 0x21a822a6278>]"
      ]
     },
     "execution_count": 26,
     "metadata": {},
     "output_type": "execute_result"
    },
    {
     "data": {
      "image/png": "[encoded data removed]",
      "text/plain": [
       "<Figure size 432x288 with 1 Axes>"
      ]
     },
     "metadata": {},
     "output_type": "display_data"
    }
   ],
   "source": [
    "plt.plot(test.reset_index().logAAPL)\n",
    "plt.plot(ARIMIAmod.predict(start=data.shape[0], end=data.shape[0]+100, typ='levels'))"
   ]
  },
  {
   "cell_type": "code",
   "execution_count": 27,
   "metadata": {
    "ExecuteTime": {
     "end_time": "2018-11-26T05:35:39.097634Z",
     "start_time": "2018-11-26T05:35:38.956013Z"
    }
   },
   "outputs": [
    {
     "data": {
      "text/plain": [
       "[<matplotlib.lines.Line2D at 0x21a823022e8>]"
      ]
     },
     "execution_count": 27,
     "metadata": {},
     "output_type": "execute_result"
    },
    {
     "data": {
      "image/png": "[encoded data removed]",
      "text/plain": [
       "<Figure size 432x288 with 1 Axes>"
      ]
     },
     "metadata": {},
     "output_type": "display_data"
    }
   ],
   "source": [
    "plt.plot(ARIMIAmod.predict(start=data.shape[0], end=data.shape[0]+100, typ='levels'))"
   ]
  },
  {
   "cell_type": "markdown",
   "metadata": {},
   "source": [
    "#### Now, to apply the ARIMA model on test data"
   ]
  },
  {
   "cell_type": "code",
   "execution_count": 28,
   "metadata": {
    "ExecuteTime": {
     "end_time": "2018-11-26T05:35:39.108606Z",
     "start_time": "2018-11-26T05:35:39.100627Z"
    }
   },
   "outputs": [],
   "source": [
    "test = test.reset_index()"
   ]
  },
  {
   "cell_type": "code",
   "execution_count": 29,
   "metadata": {
    "ExecuteTime": {
     "end_time": "2018-11-26T05:35:39.118578Z",
     "start_time": "2018-11-26T05:35:39.112595Z"
    }
   },
   "outputs": [],
   "source": [
    "test_logAAPL = list(test.logAAPL.values)"
   ]
  },
  {
   "cell_type": "code",
   "execution_count": 30,
   "metadata": {
    "ExecuteTime": {
     "end_time": "2018-11-26T05:58:00.520788Z",
     "start_time": "2018-11-26T05:35:39.121570Z"
    }
   },
   "outputs": [
    {
     "name": "stdout",
     "output_type": "stream",
     "text": [
      "0\n",
      "1\n",
      "2\n",
      "3\n",
      "4\n",
      "5\n",
      "6\n",
      "7\n",
      "8\n",
      "9\n",
      "10\n"
     ]
    },
    {
     "name": "stderr",
     "output_type": "stream",
     "text": [
      "C:\\Anaconda3\\lib\\site-packages\\statsmodels\\base\\model.py:508: ConvergenceWarning: Maximum Likelihood optimization failed to converge. Check mle_retvals\n",
      "  \"Check mle_retvals\", ConvergenceWarning)\n"
     ]
    },
    {
     "name": "stdout",
     "output_type": "stream",
     "text": [
      "11\n",
      "12\n",
      "13\n",
      "14\n",
      "15\n"
     ]
    },
    {
     "name": "stderr",
     "output_type": "stream",
     "text": [
      "C:\\Anaconda3\\lib\\site-packages\\statsmodels\\base\\model.py:508: ConvergenceWarning: Maximum Likelihood optimization failed to converge. Check mle_retvals\n",
      "  \"Check mle_retvals\", ConvergenceWarning)\n"
     ]
    },
    {
     "name": "stdout",
     "output_type": "stream",
     "text": [
      "16\n",
      "17\n",
      "18\n",
      "19\n"
     ]
    },
    {
     "name": "stderr",
     "output_type": "stream",
     "text": [
      "C:\\Anaconda3\\lib\\site-packages\\statsmodels\\base\\model.py:508: ConvergenceWarning: Maximum Likelihood optimization failed to converge. Check mle_retvals\n",
      "  \"Check mle_retvals\", ConvergenceWarning)\n"
     ]
    },
    {
     "name": "stdout",
     "output_type": "stream",
     "text": [
      "20\n",
      "21\n",
      "22\n",
      "23\n",
      "24\n"
     ]
    },
    {
     "name": "stderr",
     "output_type": "stream",
     "text": [
      "C:\\Anaconda3\\lib\\site-packages\\statsmodels\\base\\model.py:508: ConvergenceWarning: Maximum Likelihood optimization failed to converge. Check mle_retvals\n",
      "  \"Check mle_retvals\", ConvergenceWarning)\n"
     ]
    },
    {
     "name": "stdout",
     "output_type": "stream",
     "text": [
      "25\n",
      "26\n",
      "27\n",
      "28\n"
     ]
    },
    {
     "name": "stderr",
     "output_type": "stream",
     "text": [
      "C:\\Anaconda3\\lib\\site-packages\\statsmodels\\base\\model.py:508: ConvergenceWarning: Maximum Likelihood optimization failed to converge. Check mle_retvals\n",
      "  \"Check mle_retvals\", ConvergenceWarning)\n"
     ]
    },
    {
     "name": "stdout",
     "output_type": "stream",
     "text": [
      "29\n",
      "30\n"
     ]
    },
    {
     "name": "stderr",
     "output_type": "stream",
     "text": [
      "C:\\Anaconda3\\lib\\site-packages\\statsmodels\\base\\model.py:508: ConvergenceWarning: Maximum Likelihood optimization failed to converge. Check mle_retvals\n",
      "  \"Check mle_retvals\", ConvergenceWarning)\n"
     ]
    },
    {
     "name": "stdout",
     "output_type": "stream",
     "text": [
      "31\n",
      "32\n",
      "33\n",
      "34\n",
      "35\n",
      "36\n",
      "37\n"
     ]
    },
    {
     "name": "stderr",
     "output_type": "stream",
     "text": [
      "C:\\Anaconda3\\lib\\site-packages\\statsmodels\\base\\model.py:508: ConvergenceWarning: Maximum Likelihood optimization failed to converge. Check mle_retvals\n",
      "  \"Check mle_retvals\", ConvergenceWarning)\n"
     ]
    },
    {
     "name": "stdout",
     "output_type": "stream",
     "text": [
      "38\n",
      "39\n",
      "40\n",
      "41\n",
      "42\n",
      "43\n",
      "44\n",
      "45\n",
      "46\n",
      "47\n",
      "48\n",
      "49\n",
      "50\n"
     ]
    },
    {
     "name": "stderr",
     "output_type": "stream",
     "text": [
      "C:\\Anaconda3\\lib\\site-packages\\statsmodels\\base\\model.py:508: ConvergenceWarning: Maximum Likelihood optimization failed to converge. Check mle_retvals\n",
      "  \"Check mle_retvals\", ConvergenceWarning)\n"
     ]
    },
    {
     "name": "stdout",
     "output_type": "stream",
     "text": [
      "51\n"
     ]
    },
    {
     "name": "stderr",
     "output_type": "stream",
     "text": [
      "C:\\Anaconda3\\lib\\site-packages\\statsmodels\\base\\model.py:508: ConvergenceWarning: Maximum Likelihood optimization failed to converge. Check mle_retvals\n",
      "  \"Check mle_retvals\", ConvergenceWarning)\n"
     ]
    },
    {
     "name": "stdout",
     "output_type": "stream",
     "text": [
      "52\n"
     ]
    },
    {
     "name": "stderr",
     "output_type": "stream",
     "text": [
      "C:\\Anaconda3\\lib\\site-packages\\statsmodels\\base\\model.py:508: ConvergenceWarning: Maximum Likelihood optimization failed to converge. Check mle_retvals\n",
      "  \"Check mle_retvals\", ConvergenceWarning)\n"
     ]
    },
    {
     "name": "stdout",
     "output_type": "stream",
     "text": [
      "53\n"
     ]
    },
    {
     "name": "stderr",
     "output_type": "stream",
     "text": [
      "C:\\Anaconda3\\lib\\site-packages\\statsmodels\\base\\model.py:508: ConvergenceWarning: Maximum Likelihood optimization failed to converge. Check mle_retvals\n",
      "  \"Check mle_retvals\", ConvergenceWarning)\n"
     ]
    },
    {
     "name": "stdout",
     "output_type": "stream",
     "text": [
      "54\n"
     ]
    },
    {
     "name": "stderr",
     "output_type": "stream",
     "text": [
      "C:\\Anaconda3\\lib\\site-packages\\statsmodels\\base\\model.py:508: ConvergenceWarning: Maximum Likelihood optimization failed to converge. Check mle_retvals\n",
      "  \"Check mle_retvals\", ConvergenceWarning)\n"
     ]
    },
    {
     "name": "stdout",
     "output_type": "stream",
     "text": [
      "55\n",
      "56\n"
     ]
    },
    {
     "name": "stderr",
     "output_type": "stream",
     "text": [
      "C:\\Anaconda3\\lib\\site-packages\\statsmodels\\base\\model.py:508: ConvergenceWarning: Maximum Likelihood optimization failed to converge. Check mle_retvals\n",
      "  \"Check mle_retvals\", ConvergenceWarning)\n"
     ]
    },
    {
     "name": "stdout",
     "output_type": "stream",
     "text": [
      "57\n",
      "58\n"
     ]
    },
    {
     "name": "stderr",
     "output_type": "stream",
     "text": [
      "C:\\Anaconda3\\lib\\site-packages\\statsmodels\\base\\model.py:508: ConvergenceWarning: Maximum Likelihood optimization failed to converge. Check mle_retvals\n",
      "  \"Check mle_retvals\", ConvergenceWarning)\n"
     ]
    },
    {
     "name": "stdout",
     "output_type": "stream",
     "text": [
      "59\n",
      "60\n",
      "61\n",
      "62\n",
      "63\n",
      "64\n",
      "65\n",
      "66\n",
      "67\n",
      "68\n",
      "69\n",
      "70\n",
      "71\n",
      "72\n",
      "73\n"
     ]
    },
    {
     "name": "stderr",
     "output_type": "stream",
     "text": [
      "C:\\Anaconda3\\lib\\site-packages\\statsmodels\\base\\model.py:508: ConvergenceWarning: Maximum Likelihood optimization failed to converge. Check mle_retvals\n",
      "  \"Check mle_retvals\", ConvergenceWarning)\n"
     ]
    },
    {
     "name": "stdout",
     "output_type": "stream",
     "text": [
      "74\n",
      "75\n",
      "76\n",
      "77\n"
     ]
    },
    {
     "name": "stderr",
     "output_type": "stream",
     "text": [
      "C:\\Anaconda3\\lib\\site-packages\\statsmodels\\base\\model.py:508: ConvergenceWarning: Maximum Likelihood optimization failed to converge. Check mle_retvals\n",
      "  \"Check mle_retvals\", ConvergenceWarning)\n"
     ]
    },
    {
     "name": "stdout",
     "output_type": "stream",
     "text": [
      "78\n",
      "79\n"
     ]
    },
    {
     "name": "stderr",
     "output_type": "stream",
     "text": [
      "C:\\Anaconda3\\lib\\site-packages\\statsmodels\\base\\model.py:508: ConvergenceWarning: Maximum Likelihood optimization failed to converge. Check mle_retvals\n",
      "  \"Check mle_retvals\", ConvergenceWarning)\n"
     ]
    },
    {
     "name": "stdout",
     "output_type": "stream",
     "text": [
      "80\n",
      "81\n",
      "82\n",
      "83\n",
      "84\n",
      "85\n",
      "86\n",
      "87\n",
      "88\n",
      "89\n",
      "90\n",
      "91\n",
      "92\n",
      "93\n",
      "94\n",
      "95\n",
      "96\n",
      "97\n",
      "98\n"
     ]
    }
   ],
   "source": [
    "ararray = list(data.logAAPL.values)\n",
    "test_predict = []\n",
    "for i in range(99):\n",
    "    print(i)\n",
    "    ARIMIAmod = ARIMA(ararray, (p,d,q)).fit()\n",
    "    test_predict.append(ARIMIAmod.forecast(1)[0])\n",
    "    ararray.append(test_logAAPL[i])"
   ]
  },
  {
   "cell_type": "code",
   "execution_count": 31,
   "metadata": {
    "ExecuteTime": {
     "end_time": "2018-11-26T05:58:00.665402Z",
     "start_time": "2018-11-26T05:58:00.523780Z"
    }
   },
   "outputs": [
    {
     "data": {
      "text/plain": [
       "[<matplotlib.lines.Line2D at 0x21a82937400>]"
      ]
     },
     "execution_count": 31,
     "metadata": {},
     "output_type": "execute_result"
    },
    {
     "data": {
      "image/png": "[encoded data removed]",
      "text/plain": [
       "<Figure size 432x288 with 1 Axes>"
      ]
     },
     "metadata": {},
     "output_type": "display_data"
    }
   ],
   "source": [
    "plt.plot(test_logAAPL)\n",
    "plt.plot(np.array(test_predict).ravel())"
   ]
  },
  {
   "cell_type": "code",
   "execution_count": 32,
   "metadata": {
    "ExecuteTime": {
     "end_time": "2018-11-26T05:58:01.026968Z",
     "start_time": "2018-11-26T05:58:00.668395Z"
    }
   },
   "outputs": [
    {
     "data": {
      "text/plain": [
       "<matplotlib.legend.Legend at 0x21a82999f60>"
      ]
     },
     "execution_count": 32,
     "metadata": {},
     "output_type": "execute_result"
    },
    {
     "data": {
      "image/png": "[encoded data removed]",
      "text/plain": [
       "<Figure size 720x288 with 1 Axes>"
      ]
     },
     "metadata": {},
     "output_type": "display_data"
    }
   ],
   "source": [
    "plt.figure(figsize=(10,4))\n",
    "plt.plot(data.logAAPL, label='original')\n",
    "plt.plot(data.logAAPL.rolling(300).mean(), label='rolling_mean')\n",
    "plt.plot(data.logAAPL.rolling(5000).mean(), label='rolling_mean')\n",
    "plt.legend()"
   ]
  },
  {
   "cell_type": "code",
   "execution_count": 33,
   "metadata": {
    "ExecuteTime": {
     "end_time": "2018-11-26T05:58:01.176548Z",
     "start_time": "2018-11-26T05:58:01.029939Z"
    }
   },
   "outputs": [
    {
     "data": {
      "text/plain": [
       "[<matplotlib.lines.Line2D at 0x21a82a0ecf8>]"
      ]
     },
     "execution_count": 33,
     "metadata": {},
     "output_type": "execute_result"
    },
    {
     "data": {
      "image/png": "[encoded data removed]",
      "text/plain": [
       "<Figure size 720x288 with 1 Axes>"
      ]
     },
     "metadata": {},
     "output_type": "display_data"
    }
   ],
   "source": [
    "plt.figure(figsize=(10,4))\n",
    "plt.plot(data.logAAPL.rolling(300).std())"
   ]
  },
  {
   "cell_type": "code",
   "execution_count": 34,
   "metadata": {
    "ExecuteTime": {
     "end_time": "2018-11-26T05:58:01.199497Z",
     "start_time": "2018-11-26T05:58:01.179540Z"
    }
   },
   "outputs": [
    {
     "data": {
      "text/html": [
       "<div>\n",
       "<style scoped>\n",
       "    .dataframe tbody tr th:only-of-type {\n",
       "        vertical-align: middle;\n",
       "    }\n",
       "\n",
       "    .dataframe tbody tr th {\n",
       "        vertical-align: top;\n",
       "    }\n",
       "\n",
       "    .dataframe thead th {\n",
       "        text-align: right;\n",
       "    }\n",
       "</style>\n",
       "<table border=\"1\" class=\"dataframe\">\n",
       "  <thead>\n",
       "    <tr style=\"text-align: right;\">\n",
       "      <th></th>\n",
       "      <th>DATE</th>\n",
       "      <th>DATE_F</th>\n",
       "      <th>AAPL</th>\n",
       "      <th>logAAPL</th>\n",
       "      <th>diflogAAPL</th>\n",
       "      <th>predict</th>\n",
       "      <th>error</th>\n",
       "      <th>sqrError</th>\n",
       "      <th>absError</th>\n",
       "    </tr>\n",
       "  </thead>\n",
       "  <tbody>\n",
       "    <tr>\n",
       "      <th>0</th>\n",
       "      <td>1491226200</td>\n",
       "      <td>2017-04-03 19:00:00</td>\n",
       "      <td>143.6800</td>\n",
       "      <td>4.967589</td>\n",
       "      <td>-0.000139</td>\n",
       "      <td>NaN</td>\n",
       "      <td>NaN</td>\n",
       "      <td>NaN</td>\n",
       "      <td>NaN</td>\n",
       "    </tr>\n",
       "    <tr>\n",
       "      <th>1</th>\n",
       "      <td>1491226260</td>\n",
       "      <td>2017-04-03 19:01:00</td>\n",
       "      <td>143.7000</td>\n",
       "      <td>4.967728</td>\n",
       "      <td>0.000069</td>\n",
       "      <td>4.967592</td>\n",
       "      <td>0.000136</td>\n",
       "      <td>1.849506e-08</td>\n",
       "      <td>0.000136</td>\n",
       "    </tr>\n",
       "    <tr>\n",
       "      <th>2</th>\n",
       "      <td>1491226320</td>\n",
       "      <td>2017-04-03 19:02:00</td>\n",
       "      <td>143.6901</td>\n",
       "      <td>4.967659</td>\n",
       "      <td>0.000349</td>\n",
       "      <td>4.967730</td>\n",
       "      <td>-0.000071</td>\n",
       "      <td>5.017208e-09</td>\n",
       "      <td>0.000071</td>\n",
       "    </tr>\n",
       "    <tr>\n",
       "      <th>3</th>\n",
       "      <td>1491226380</td>\n",
       "      <td>2017-04-03 19:03:00</td>\n",
       "      <td>143.6400</td>\n",
       "      <td>4.967310</td>\n",
       "      <td>-0.000139</td>\n",
       "      <td>4.967660</td>\n",
       "      <td>-0.000350</td>\n",
       "      <td>1.226073e-07</td>\n",
       "      <td>0.000350</td>\n",
       "    </tr>\n",
       "    <tr>\n",
       "      <th>4</th>\n",
       "      <td>1491226440</td>\n",
       "      <td>2017-04-03 19:04:00</td>\n",
       "      <td>143.6600</td>\n",
       "      <td>4.967449</td>\n",
       "      <td>-0.000835</td>\n",
       "      <td>4.967319</td>\n",
       "      <td>0.000131</td>\n",
       "      <td>1.710611e-08</td>\n",
       "      <td>0.000131</td>\n",
       "    </tr>\n",
       "  </tbody>\n",
       "</table>\n",
       "</div>"
      ],
      "text/plain": [
       "         DATE               DATE_F      AAPL   logAAPL  diflogAAPL   predict  \\\n",
       "0  1491226200  2017-04-03 19:00:00  143.6800  4.967589   -0.000139       NaN   \n",
       "1  1491226260  2017-04-03 19:01:00  143.7000  4.967728    0.000069  4.967592   \n",
       "2  1491226320  2017-04-03 19:02:00  143.6901  4.967659    0.000349  4.967730   \n",
       "3  1491226380  2017-04-03 19:03:00  143.6400  4.967310   -0.000139  4.967660   \n",
       "4  1491226440  2017-04-03 19:04:00  143.6600  4.967449   -0.000835  4.967319   \n",
       "\n",
       "      error      sqrError  absError  \n",
       "0       NaN           NaN       NaN  \n",
       "1  0.000136  1.849506e-08  0.000136  \n",
       "2 -0.000071  5.017208e-09  0.000071  \n",
       "3 -0.000350  1.226073e-07  0.000350  \n",
       "4  0.000131  1.710611e-08  0.000131  "
      ]
     },
     "execution_count": 34,
     "metadata": {},
     "output_type": "execute_result"
    }
   ],
   "source": [
    "data.head()"
   ]
  },
  {
   "cell_type": "code",
   "execution_count": 35,
   "metadata": {
    "ExecuteTime": {
     "end_time": "2018-11-26T05:58:01.216441Z",
     "start_time": "2018-11-26T05:58:01.204473Z"
    }
   },
   "outputs": [
    {
     "name": "stdout",
     "output_type": "stream",
     "text": [
      "MFE =  1.1268310846860926e-05\n",
      "MAE =  7.503849256342694e-08\n"
     ]
    }
   ],
   "source": [
    "import numpy as np\n",
    "\n",
    "def mean_forecast_err(y, yhat):\n",
    "    return y.sub(yhat).mean()\n",
    "\n",
    "def mean_absolute_err(y, yhat):\n",
    "    return np.mean((np.abs(y.sub(yhat).mean()) / yhat)) # or percent error = * 100\n",
    "\n",
    "print(\"MFE = \", mean_forecast_err(data.AAPL, np.exp(data.predict)))\n",
    "print(\"MAE = \", mean_absolute_err(data.AAPL, np.exp(data.predict)))"
   ]
  },
  {
   "cell_type": "markdown",
   "metadata": {},
   "source": [
    "#### Mean Forecast error is practically zero; this shows that ARIMA is a great fit"
   ]
  },
  {
   "cell_type": "markdown",
   "metadata": {},
   "source": [
    "### -----------------------------------------------------------------------------"
   ]
  },
  {
   "cell_type": "markdown",
   "metadata": {},
   "source": [
    "### Second stock: ADP\n",
    "#### Will repeat the same steps as done for the first stock"
   ]
  },
  {
   "cell_type": "code",
   "execution_count": 36,
   "metadata": {
    "ExecuteTime": {
     "end_time": "2018-11-26T05:58:02.148665Z",
     "start_time": "2018-11-26T05:58:01.219433Z"
    }
   },
   "outputs": [],
   "source": [
    "df['DATE_F'] = df.DATE.apply(lambda x:time.strftime('%Y-%m-%d %H:%M:%S', time.localtime(x)))\n",
    "df['logADP']= np.log(df['ADP'])\n",
    "df['diflogADP'] = df['logADP'] - df['logADP'].shift(periods=-1)\n",
    "df = df.dropna()"
   ]
  },
  {
   "cell_type": "code",
   "execution_count": 37,
   "metadata": {
    "ExecuteTime": {
     "end_time": "2018-11-26T05:58:02.163592Z",
     "start_time": "2018-11-26T05:58:02.150628Z"
    }
   },
   "outputs": [],
   "source": [
    "# Splitting the data into 2 - for model fit and for test\n",
    "data = df[['DATE','DATE_F','ADP','logADP','diflogADP']][:-100]\n",
    "test = df[['DATE','DATE_F','ADP','logADP','diflogADP']][-100:]"
   ]
  },
  {
   "cell_type": "code",
   "execution_count": 38,
   "metadata": {
    "ExecuteTime": {
     "end_time": "2018-11-26T05:58:02.172568Z",
     "start_time": "2018-11-26T05:58:02.166594Z"
    }
   },
   "outputs": [
    {
     "name": "stdout",
     "output_type": "stream",
     "text": [
      "Size of data  (41164, 5)\n",
      "Size of test  (100, 5)\n"
     ]
    }
   ],
   "source": [
    "print(\"Size of data \", data.shape)\n",
    "print(\"Size of test \", test.shape)"
   ]
  },
  {
   "cell_type": "code",
   "execution_count": 39,
   "metadata": {
    "ExecuteTime": {
     "end_time": "2018-11-26T05:58:02.658860Z",
     "start_time": "2018-11-26T05:58:02.175564Z"
    }
   },
   "outputs": [
    {
     "data": {
      "text/plain": [
       "<matplotlib.legend.Legend at 0x21a82ab5ef0>"
      ]
     },
     "execution_count": 39,
     "metadata": {},
     "output_type": "execute_result"
    },
    {
     "data": {
      "image/png": "[encoded data removed]",
      "text/plain": [
       "<Figure size 720x288 with 3 Axes>"
      ]
     },
     "metadata": {},
     "output_type": "display_data"
    }
   ],
   "source": [
    "# Plotting the series and its transformation to check for stationarity\n",
    "\n",
    "fig, ax = plt.subplots(figsize=(10,4))\n",
    "\n",
    "plt.subplot(3, 1, 1)\n",
    "plt.plot(data.ADP, label = \"ADP Price\")\n",
    "plt.title(\"Level Closing Price\", size = 20,)\n",
    "plt.ylabel(\"Price in Dollars\", size = 10)\n",
    "plt.legend()\n",
    "\n",
    "plt.subplot(3, 1, 2)\n",
    "plt.plot(data.logADP, label = 'Log of ADP', color = 'r')\n",
    "plt.title(\"Log of Closing Price\", size = 20,)\n",
    "plt.ylabel(\"Price in Log Dollars\", size = 10)\n",
    "plt.legend()\n",
    "\n",
    "plt.subplot(3, 1, 3)\n",
    "plt.plot( data.diflogADP, label = '1st Difference of Log of ADP', color = 'g')\n",
    "plt.title(\"Differenced Log of Closing Price\", size = 20,)\n",
    "plt.ylabel(\"Differenced Closing Price\", size = 10)\n",
    "plt.xlabel('Day', size = 10)\n",
    "plt.legend()"
   ]
  },
  {
   "cell_type": "code",
   "execution_count": 40,
   "metadata": {
    "ExecuteTime": {
     "end_time": "2018-11-26T05:58:08.098906Z",
     "start_time": "2018-11-26T05:58:02.660829Z"
    }
   },
   "outputs": [
    {
     "name": "stdout",
     "output_type": "stream",
     "text": [
      "Results of Dickey-Fuller Test:\n",
      "Test Statistic                   -30.711101\n",
      "p-value                            0.000000\n",
      "# Lags Used                       39.000000\n",
      "Number of Observations Used    41124.000000\n",
      "Critical Value (1%)               -3.430509\n",
      "Critical Value (5%)               -2.861610\n",
      "Critical Value (10%)              -2.566807\n",
      "dtype: float64\n"
     ]
    }
   ],
   "source": [
    "#Perform Dickey-Fuller test:\n",
    "print ('Results of Dickey-Fuller Test:')\n",
    "dftest = adfuller(data.diflogADP, autolag='AIC')\n",
    "dfoutput = pd.Series(dftest[0:4], index=['Test Statistic','p-value','# Lags Used','Number of Observations Used'])\n",
    "for key,value in dftest[4].items():\n",
    "    dfoutput['Critical Value (%s)'%key] = value\n",
    "print (dfoutput)"
   ]
  },
  {
   "cell_type": "markdown",
   "metadata": {},
   "source": [
    "#### Since p-value = 0, this log-first-difference series is STATIONARY; we can now proceed with ARIMA modeling"
   ]
  },
  {
   "cell_type": "markdown",
   "metadata": {},
   "source": [
    "First check for autocorrelation"
   ]
  },
  {
   "cell_type": "code",
   "execution_count": 41,
   "metadata": {
    "ExecuteTime": {
     "end_time": "2018-11-26T05:58:08.110874Z",
     "start_time": "2018-11-26T05:58:08.101898Z"
    }
   },
   "outputs": [
    {
     "data": {
      "text/plain": [
       "1.8804134653934774"
      ]
     },
     "execution_count": 41,
     "metadata": {},
     "output_type": "execute_result"
    }
   ],
   "source": [
    "sm.stats.durbin_watson(df['diflogADP'].dropna())"
   ]
  },
  {
   "cell_type": "markdown",
   "metadata": {},
   "source": [
    "#### Since DW statistic is close to 2, we can say that there is minimum auto-correlation"
   ]
  },
  {
   "cell_type": "code",
   "execution_count": 42,
   "metadata": {
    "ExecuteTime": {
     "end_time": "2018-11-26T05:58:08.636489Z",
     "start_time": "2018-11-26T05:58:08.113882Z"
    }
   },
   "outputs": [
    {
     "data": {
      "image/png": "[encoded data removed]",
      "text/plain": [
       "<Figure size 720x288 with 2 Axes>"
      ]
     },
     "metadata": {},
     "output_type": "display_data"
    }
   ],
   "source": [
    "# Lets plot ACF and PACF plots\n",
    "\n",
    "fig = plt.figure(figsize=(10,4))\n",
    "ax1 = fig.add_subplot(211)\n",
    "fig = sm.graphics.tsa.plot_acf(df['diflogADP'].values.squeeze(), lags=40, ax=ax1)\n",
    "ax2 = fig.add_subplot(212)\n",
    "fig = sm.graphics.tsa.plot_pacf(df['diflogADP'], lags=40, ax=ax2)"
   ]
  },
  {
   "cell_type": "code",
   "execution_count": 43,
   "metadata": {
    "ExecuteTime": {
     "end_time": "2018-11-26T05:59:10.288966Z",
     "start_time": "2018-11-26T05:58:08.638478Z"
    }
   },
   "outputs": [
    {
     "name": "stderr",
     "output_type": "stream",
     "text": [
      "C:\\Anaconda3\\lib\\site-packages\\ipykernel_launcher.py:3: FutureWarning: Method .as_matrix will be removed in a future version. Use .values instead.\n",
      "  This is separate from the ipykernel package so we can avoid doing imports until\n",
      "C:\\Anaconda3\\lib\\site-packages\\scipy\\signal\\signaltools.py:1341: FutureWarning: Using a non-tuple sequence for multidimensional indexing is deprecated; use `arr[tuple(seq)]` instead of `arr[seq]`. In the future this will be interpreted as an array index, `arr[np.array(seq)]`, which will result either in an error or a different result.\n",
      "  out_full[ind] += zi\n",
      "C:\\Anaconda3\\lib\\site-packages\\scipy\\signal\\signaltools.py:1344: FutureWarning: Using a non-tuple sequence for multidimensional indexing is deprecated; use `arr[tuple(seq)]` instead of `arr[seq]`. In the future this will be interpreted as an array index, `arr[np.array(seq)]`, which will result either in an error or a different result.\n",
      "  out = out_full[ind]\n",
      "C:\\Anaconda3\\lib\\site-packages\\scipy\\signal\\signaltools.py:1350: FutureWarning: Using a non-tuple sequence for multidimensional indexing is deprecated; use `arr[tuple(seq)]` instead of `arr[seq]`. In the future this will be interpreted as an array index, `arr[np.array(seq)]`, which will result either in an error or a different result.\n",
      "  zf = out_full[ind]\n"
     ]
    },
    {
     "name": "stdout",
     "output_type": "stream",
     "text": [
      "(0, 1, 0) -481263.54058516544\n",
      "(0, 1, 1) -481415.45165568014\n"
     ]
    },
    {
     "name": "stderr",
     "output_type": "stream",
     "text": [
      "C:\\Anaconda3\\lib\\site-packages\\statsmodels\\base\\model.py:508: ConvergenceWarning: Maximum Likelihood optimization failed to converge. Check mle_retvals\n",
      "  \"Check mle_retvals\", ConvergenceWarning)\n"
     ]
    },
    {
     "name": "stdout",
     "output_type": "stream",
     "text": [
      "(0, 1, 2) -481429.2585908664\n",
      "(1, 1, 0) -481408.5761137512\n",
      "(1, 1, 1) -481423.9070365739\n",
      "(1, 1, 2) -481438.67580479634\n",
      "(2, 1, 0) -481435.20261440246\n",
      "(2, 1, 1) -481440.03041549824\n",
      "(2, 1, 2) -481449.85773588944\n",
      "Best Model is : (2, 1, 2)\n"
     ]
    }
   ],
   "source": [
    "# To systematically find the ARIMA model parameters\n",
    "\n",
    "ararray = (data.logADP.dropna().as_matrix())\n",
    "\n",
    "p=0\n",
    "q=0\n",
    "d=1\n",
    "pdq=[]\n",
    "aic=[]\n",
    "\n",
    "for p in range(3):\n",
    "    for q in range(3):\n",
    "        try:\n",
    "            model = ARIMA(ararray, (p,d,q)).fit()\n",
    "            x = model.aic\n",
    "            x1 = (p,d,q)\n",
    "            \n",
    "            print (x1, x)\n",
    "            aic.append(x)\n",
    "            pdq.append(x1)\n",
    "        except:\n",
    "            pass\n",
    "                        \n",
    "keys = pdq\n",
    "values = aic\n",
    "d = dict(zip(keys, values))\n",
    "minaic=min(d, key=d.get)\n",
    "\n",
    "for i in range(3):\n",
    "    p=minaic[0]\n",
    "    d=minaic[1]\n",
    "    q=minaic[2]\n",
    "print (\"Best Model is :\", (p,d,q))"
   ]
  },
  {
   "cell_type": "markdown",
   "metadata": {},
   "source": [
    "#### Use the identified parameters to fit the ARIMA model"
   ]
  },
  {
   "cell_type": "code",
   "execution_count": 44,
   "metadata": {
    "ExecuteTime": {
     "end_time": "2018-11-26T05:59:27.202531Z",
     "start_time": "2018-11-26T05:59:10.290964Z"
    }
   },
   "outputs": [],
   "source": [
    "ARIMIAmod = ARIMA(ararray, (p,d,q)).fit()"
   ]
  },
  {
   "cell_type": "code",
   "execution_count": 45,
   "metadata": {
    "ExecuteTime": {
     "end_time": "2018-11-26T05:59:27.285310Z",
     "start_time": "2018-11-26T05:59:27.204526Z"
    }
   },
   "outputs": [
    {
     "data": {
      "text/html": [
       "<div>\n",
       "<style scoped>\n",
       "    .dataframe tbody tr th:only-of-type {\n",
       "        vertical-align: middle;\n",
       "    }\n",
       "\n",
       "    .dataframe tbody tr th {\n",
       "        vertical-align: top;\n",
       "    }\n",
       "\n",
       "    .dataframe thead th {\n",
       "        text-align: right;\n",
       "    }\n",
       "</style>\n",
       "<table border=\"1\" class=\"dataframe\">\n",
       "  <thead>\n",
       "    <tr style=\"text-align: right;\">\n",
       "      <th></th>\n",
       "      <th>DATE</th>\n",
       "      <th>DATE_F</th>\n",
       "      <th>ADP</th>\n",
       "      <th>logADP</th>\n",
       "      <th>diflogADP</th>\n",
       "      <th>predict</th>\n",
       "    </tr>\n",
       "  </thead>\n",
       "  <tbody>\n",
       "    <tr>\n",
       "      <th>0</th>\n",
       "      <td>1491226200</td>\n",
       "      <td>2017-04-03 19:00:00</td>\n",
       "      <td>102.2300</td>\n",
       "      <td>4.627225</td>\n",
       "      <td>0.000881</td>\n",
       "      <td>NaN</td>\n",
       "    </tr>\n",
       "    <tr>\n",
       "      <th>1</th>\n",
       "      <td>1491226260</td>\n",
       "      <td>2017-04-03 19:01:00</td>\n",
       "      <td>102.1400</td>\n",
       "      <td>4.626344</td>\n",
       "      <td>-0.000710</td>\n",
       "      <td>4.627226</td>\n",
       "    </tr>\n",
       "    <tr>\n",
       "      <th>2</th>\n",
       "      <td>1491226320</td>\n",
       "      <td>2017-04-03 19:02:00</td>\n",
       "      <td>102.2125</td>\n",
       "      <td>4.627054</td>\n",
       "      <td>0.000710</td>\n",
       "      <td>4.626294</td>\n",
       "    </tr>\n",
       "    <tr>\n",
       "      <th>3</th>\n",
       "      <td>1491226380</td>\n",
       "      <td>2017-04-03 19:03:00</td>\n",
       "      <td>102.1400</td>\n",
       "      <td>4.626344</td>\n",
       "      <td>0.000784</td>\n",
       "      <td>4.627120</td>\n",
       "    </tr>\n",
       "    <tr>\n",
       "      <th>4</th>\n",
       "      <td>1491226440</td>\n",
       "      <td>2017-04-03 19:04:00</td>\n",
       "      <td>102.0600</td>\n",
       "      <td>4.625561</td>\n",
       "      <td>0.000196</td>\n",
       "      <td>4.626308</td>\n",
       "    </tr>\n",
       "  </tbody>\n",
       "</table>\n",
       "</div>"
      ],
      "text/plain": [
       "         DATE               DATE_F       ADP    logADP  diflogADP   predict\n",
       "0  1491226200  2017-04-03 19:00:00  102.2300  4.627225   0.000881       NaN\n",
       "1  1491226260  2017-04-03 19:01:00  102.1400  4.626344  -0.000710  4.627226\n",
       "2  1491226320  2017-04-03 19:02:00  102.2125  4.627054   0.000710  4.626294\n",
       "3  1491226380  2017-04-03 19:03:00  102.1400  4.626344   0.000784  4.627120\n",
       "4  1491226440  2017-04-03 19:04:00  102.0600  4.625561   0.000196  4.626308"
      ]
     },
     "execution_count": 45,
     "metadata": {},
     "output_type": "execute_result"
    }
   ],
   "source": [
    "data.loc[1:, 'predict'] = ARIMIAmod.predict(typ='levels')\n",
    "data.head()"
   ]
  },
  {
   "cell_type": "code",
   "execution_count": 46,
   "metadata": {
    "ExecuteTime": {
     "end_time": "2018-11-26T05:59:27.556626Z",
     "start_time": "2018-11-26T05:59:27.288301Z"
    }
   },
   "outputs": [
    {
     "data": {
      "text/plain": [
       "<matplotlib.legend.Legend at 0x21a81de2f28>"
      ]
     },
     "execution_count": 46,
     "metadata": {},
     "output_type": "execute_result"
    },
    {
     "data": {
      "image/png": "[encoded data removed]",
      "text/plain": [
       "<Figure size 432x288 with 1 Axes>"
      ]
     },
     "metadata": {},
     "output_type": "display_data"
    }
   ],
   "source": [
    "plt.plot(data['logADP'][1:], label='original')\n",
    "plt.plot(data.predict[1:], label='predict')\n",
    "plt.legend()"
   ]
  },
  {
   "cell_type": "code",
   "execution_count": 47,
   "metadata": {
    "ExecuteTime": {
     "end_time": "2018-11-26T05:59:27.583517Z",
     "start_time": "2018-11-26T05:59:27.561579Z"
    }
   },
   "outputs": [
    {
     "data": {
      "text/plain": [
       "array([[4.66752888, 4.67026531],\n",
       "       [4.66690226, 4.6708889 ],\n",
       "       [4.66644671, 4.67134439],\n",
       "       [4.66608317, 4.67171075],\n",
       "       [4.66576428, 4.67203264],\n",
       "       [4.66547087, 4.67232818],\n",
       "       [4.66519857, 4.67260223],\n",
       "       [4.66494551, 4.67285716],\n",
       "       [4.6647086 , 4.67309611],\n",
       "       [4.66448466, 4.67332212]])"
      ]
     },
     "execution_count": 47,
     "metadata": {},
     "output_type": "execute_result"
    }
   ],
   "source": [
    "numofsteps = 10\n",
    "stepahead = ARIMIAmod.forecast(numofsteps)[0]\n",
    "ferrors = ARIMIAmod.forecast(numofsteps)[2]\n",
    "ferrors"
   ]
  },
  {
   "cell_type": "code",
   "execution_count": 48,
   "metadata": {
    "ExecuteTime": {
     "end_time": "2018-11-26T05:59:27.607453Z",
     "start_time": "2018-11-26T05:59:27.586510Z"
    }
   },
   "outputs": [
    {
     "data": {
      "text/html": [
       "<div>\n",
       "<style scoped>\n",
       "    .dataframe tbody tr th:only-of-type {\n",
       "        vertical-align: middle;\n",
       "    }\n",
       "\n",
       "    .dataframe tbody tr th {\n",
       "        vertical-align: top;\n",
       "    }\n",
       "\n",
       "    .dataframe thead th {\n",
       "        text-align: right;\n",
       "    }\n",
       "</style>\n",
       "<table border=\"1\" class=\"dataframe\">\n",
       "  <thead>\n",
       "    <tr style=\"text-align: right;\">\n",
       "      <th></th>\n",
       "      <th>DATE</th>\n",
       "      <th>DATE_F</th>\n",
       "      <th>ADP</th>\n",
       "      <th>logADP</th>\n",
       "      <th>diflogADP</th>\n",
       "      <th>predict</th>\n",
       "      <th>error</th>\n",
       "      <th>sqrError</th>\n",
       "      <th>absError</th>\n",
       "    </tr>\n",
       "  </thead>\n",
       "  <tbody>\n",
       "    <tr>\n",
       "      <th>0</th>\n",
       "      <td>1491226200</td>\n",
       "      <td>2017-04-03 19:00:00</td>\n",
       "      <td>102.2300</td>\n",
       "      <td>4.627225</td>\n",
       "      <td>0.000881</td>\n",
       "      <td>NaN</td>\n",
       "      <td>NaN</td>\n",
       "      <td>NaN</td>\n",
       "      <td>NaN</td>\n",
       "    </tr>\n",
       "    <tr>\n",
       "      <th>1</th>\n",
       "      <td>1491226260</td>\n",
       "      <td>2017-04-03 19:01:00</td>\n",
       "      <td>102.1400</td>\n",
       "      <td>4.626344</td>\n",
       "      <td>-0.000710</td>\n",
       "      <td>4.627226</td>\n",
       "      <td>-0.000882</td>\n",
       "      <td>7.775043e-07</td>\n",
       "      <td>0.000882</td>\n",
       "    </tr>\n",
       "    <tr>\n",
       "      <th>2</th>\n",
       "      <td>1491226320</td>\n",
       "      <td>2017-04-03 19:02:00</td>\n",
       "      <td>102.2125</td>\n",
       "      <td>4.627054</td>\n",
       "      <td>0.000710</td>\n",
       "      <td>4.626294</td>\n",
       "      <td>0.000760</td>\n",
       "      <td>5.780116e-07</td>\n",
       "      <td>0.000760</td>\n",
       "    </tr>\n",
       "    <tr>\n",
       "      <th>3</th>\n",
       "      <td>1491226380</td>\n",
       "      <td>2017-04-03 19:03:00</td>\n",
       "      <td>102.1400</td>\n",
       "      <td>4.626344</td>\n",
       "      <td>0.000784</td>\n",
       "      <td>4.627120</td>\n",
       "      <td>-0.000775</td>\n",
       "      <td>6.008867e-07</td>\n",
       "      <td>0.000775</td>\n",
       "    </tr>\n",
       "    <tr>\n",
       "      <th>4</th>\n",
       "      <td>1491226440</td>\n",
       "      <td>2017-04-03 19:04:00</td>\n",
       "      <td>102.0600</td>\n",
       "      <td>4.625561</td>\n",
       "      <td>0.000196</td>\n",
       "      <td>4.626308</td>\n",
       "      <td>-0.000747</td>\n",
       "      <td>5.583384e-07</td>\n",
       "      <td>0.000747</td>\n",
       "    </tr>\n",
       "  </tbody>\n",
       "</table>\n",
       "</div>"
      ],
      "text/plain": [
       "         DATE               DATE_F       ADP    logADP  diflogADP   predict  \\\n",
       "0  1491226200  2017-04-03 19:00:00  102.2300  4.627225   0.000881       NaN   \n",
       "1  1491226260  2017-04-03 19:01:00  102.1400  4.626344  -0.000710  4.627226   \n",
       "2  1491226320  2017-04-03 19:02:00  102.2125  4.627054   0.000710  4.626294   \n",
       "3  1491226380  2017-04-03 19:03:00  102.1400  4.626344   0.000784  4.627120   \n",
       "4  1491226440  2017-04-03 19:04:00  102.0600  4.625561   0.000196  4.626308   \n",
       "\n",
       "      error      sqrError  absError  \n",
       "0       NaN           NaN       NaN  \n",
       "1 -0.000882  7.775043e-07  0.000882  \n",
       "2  0.000760  5.780116e-07  0.000760  \n",
       "3 -0.000775  6.008867e-07  0.000775  \n",
       "4 -0.000747  5.583384e-07  0.000747  "
      ]
     },
     "execution_count": 48,
     "metadata": {},
     "output_type": "execute_result"
    }
   ],
   "source": [
    "data['error'] = (data['logADP'] - data['predict'])\n",
    "data['sqrError'] = np.square(data['error'])\n",
    "data['absError'] = np.abs(data['error'])\n",
    "data.head()"
   ]
  },
  {
   "cell_type": "code",
   "execution_count": 49,
   "metadata": {
    "ExecuteTime": {
     "end_time": "2018-11-26T05:59:28.013387Z",
     "start_time": "2018-11-26T05:59:27.610447Z"
    }
   },
   "outputs": [
    {
     "data": {
      "text/plain": [
       "Text(0.5,0,'Month')"
      ]
     },
     "execution_count": 49,
     "metadata": {},
     "output_type": "execute_result"
    },
    {
     "data": {
      "image/png": "[encoded data removed]",
      "text/plain": [
       "<Figure size 720x288 with 3 Axes>"
      ]
     },
     "metadata": {},
     "output_type": "display_data"
    }
   ],
   "source": [
    "fig, ax = plt.subplots(figsize=(10,4))\n",
    "\n",
    "plt.subplot(3, 1, 1)\n",
    "plt.plot(data.error, label = \"Residual\")\n",
    "plt.title(\"Residuals of Model\", size = 10,)\n",
    "plt.ylabel(\"Error\", size = 10)\n",
    "plt.xlabel('Month', size = 10)\n",
    "\n",
    "plt.subplot(3, 1, 2)\n",
    "plt.plot(data.sqrError, label = 'Residual Squared', color = 'r')\n",
    "plt.title(\"Residuals of Model Squared\", size = 10,)\n",
    "plt.ylabel(\"Error Squared\", size = 10)\n",
    "plt.xlabel('Month', size = 10)\n",
    "\n",
    "plt.subplot(3, 1, 3)\n",
    "plt.plot(data.absError, label = 'Residual Squared', color = 'r')\n",
    "plt.title(\"Residuals of Model Abs\", size = 10,)\n",
    "plt.ylabel(\"Error Squared\", size = 10)\n",
    "plt.xlabel('Month', size = 10)\n",
    "\n",
    "\n"
   ]
  },
  {
   "cell_type": "code",
   "execution_count": 50,
   "metadata": {
    "ExecuteTime": {
     "end_time": "2018-11-26T05:59:28.720496Z",
     "start_time": "2018-11-26T05:59:28.017377Z"
    }
   },
   "outputs": [
    {
     "data": {
      "text/plain": [
       "Text(0,0.5,'ACF')"
      ]
     },
     "execution_count": 50,
     "metadata": {},
     "output_type": "execute_result"
    },
    {
     "data": {
      "image/png": "[encoded data removed]",
      "text/plain": [
       "<Figure size 720x288 with 1 Axes>"
      ]
     },
     "metadata": {},
     "output_type": "display_data"
    }
   ],
   "source": [
    "fig, ax = plt.subplots(figsize=(10,4))\n",
    "\n",
    "plot_acf(data.error, lags = 25, ax = ax)\n",
    "ax.set_title('ACF Error')\n",
    "ax.set_xlabel('Lags')\n",
    "ax.set_ylabel('ACF')\n",
    "\n",
    "plot_acf(data.sqrError, lags = 25, ax = ax)\n",
    "ax.set_title('ACF Squared Error')\n",
    "ax.set_xlabel('Lags')\n",
    "ax.set_ylabel('ACF')\n",
    "\n"
   ]
  },
  {
   "cell_type": "code",
   "execution_count": 51,
   "metadata": {
    "ExecuteTime": {
     "end_time": "2018-11-26T05:59:28.899018Z",
     "start_time": "2018-11-26T05:59:28.723490Z"
    }
   },
   "outputs": [
    {
     "data": {
      "text/plain": [
       "Text(0,0.5,'PACF')"
      ]
     },
     "execution_count": 51,
     "metadata": {},
     "output_type": "execute_result"
    },
    {
     "data": {
      "image/png": "[encoded data removed]",
      "text/plain": [
       "<Figure size 720x288 with 1 Axes>"
      ]
     },
     "metadata": {},
     "output_type": "display_data"
    }
   ],
   "source": [
    "fig, ax = plt.subplots(figsize=(10,4))\n",
    "\n",
    "plot_pacf(data.error, lags = 25, ax = ax)\n",
    "ax.set_title('Errors PACF')\n",
    "ax.set_xlabel('Lags')\n",
    "ax.set_ylabel('PACF')\n",
    "\n",
    "plot_pacf(data.sqrError, lags = 25, ax = ax)\n",
    "ax.set_title('Errors Squared PACF')\n",
    "ax.set_xlabel('Lags')\n",
    "ax.set_ylabel('PACF')"
   ]
  },
  {
   "cell_type": "markdown",
   "metadata": {},
   "source": [
    "#### Now, to run the ARIMA model on test data"
   ]
  },
  {
   "cell_type": "code",
   "execution_count": 52,
   "metadata": {
    "ExecuteTime": {
     "end_time": "2018-11-26T06:25:41.472954Z",
     "start_time": "2018-11-26T05:59:28.902013Z"
    }
   },
   "outputs": [
    {
     "name": "stderr",
     "output_type": "stream",
     "text": [
      "C:\\Anaconda3\\lib\\site-packages\\statsmodels\\base\\model.py:508: ConvergenceWarning: Maximum Likelihood optimization failed to converge. Check mle_retvals\n",
      "  \"Check mle_retvals\", ConvergenceWarning)\n"
     ]
    },
    {
     "data": {
      "text/plain": [
       "[<matplotlib.lines.Line2D at 0x21a8320bf98>]"
      ]
     },
     "execution_count": 52,
     "metadata": {},
     "output_type": "execute_result"
    },
    {
     "data": {
      "image/png": "[encoded data removed]",
      "text/plain": [
       "<Figure size 432x288 with 1 Axes>"
      ]
     },
     "metadata": {},
     "output_type": "display_data"
    }
   ],
   "source": [
    "test = test.reset_index()\n",
    "test_logADP = list(test.logADP.values)\n",
    "\n",
    "ararray = list(data.logADP.values)\n",
    "test_predict = []\n",
    "for i in range(99):\n",
    "    #print(i)\n",
    "    ARIMIAmod = ARIMA(ararray, (p,d,q)).fit()\n",
    "    test_predict.append(ARIMIAmod.forecast(1)[0])\n",
    "    ararray.append(test_logADP[i])\n",
    "    \n",
    "plt.plot(test_logADP)\n",
    "plt.plot(np.array(test_predict).ravel())"
   ]
  },
  {
   "cell_type": "code",
   "execution_count": 53,
   "metadata": {
    "ExecuteTime": {
     "end_time": "2018-11-26T06:25:41.745278Z",
     "start_time": "2018-11-26T06:25:41.475947Z"
    }
   },
   "outputs": [
    {
     "data": {
      "text/plain": [
       "<matplotlib.legend.Legend at 0x21a83531c18>"
      ]
     },
     "execution_count": 53,
     "metadata": {},
     "output_type": "execute_result"
    },
    {
     "data": {
      "image/png": "[encoded data removed]",
      "text/plain": [
       "<Figure size 720x288 with 1 Axes>"
      ]
     },
     "metadata": {},
     "output_type": "display_data"
    }
   ],
   "source": [
    "plt.figure(figsize=(10,4))\n",
    "plt.plot(data.logADP, label='original')\n",
    "plt.plot(data.logADP.rolling(300).mean(), label='rolling_mean')\n",
    "plt.plot(data.logADP.rolling(5000).mean(), label='rolling_mean')\n",
    "plt.legend()"
   ]
  },
  {
   "cell_type": "code",
   "execution_count": 54,
   "metadata": {
    "ExecuteTime": {
     "end_time": "2018-11-26T06:25:41.897347Z",
     "start_time": "2018-11-26T06:25:41.748266Z"
    }
   },
   "outputs": [
    {
     "data": {
      "text/plain": [
       "[<matplotlib.lines.Line2D at 0x21a8359a588>]"
      ]
     },
     "execution_count": 54,
     "metadata": {},
     "output_type": "execute_result"
    },
    {
     "data": {
      "image/png": "[encoded data removed]",
      "text/plain": [
       "<Figure size 720x288 with 1 Axes>"
      ]
     },
     "metadata": {},
     "output_type": "display_data"
    }
   ],
   "source": [
    "plt.figure(figsize=(10,4))\n",
    "plt.plot(data.logADP.rolling(300).std())"
   ]
  },
  {
   "cell_type": "code",
   "execution_count": 55,
   "metadata": {
    "ExecuteTime": {
     "end_time": "2018-11-26T06:25:41.918288Z",
     "start_time": "2018-11-26T06:25:41.899338Z"
    }
   },
   "outputs": [
    {
     "data": {
      "text/html": [
       "<div>\n",
       "<style scoped>\n",
       "    .dataframe tbody tr th:only-of-type {\n",
       "        vertical-align: middle;\n",
       "    }\n",
       "\n",
       "    .dataframe tbody tr th {\n",
       "        vertical-align: top;\n",
       "    }\n",
       "\n",
       "    .dataframe thead th {\n",
       "        text-align: right;\n",
       "    }\n",
       "</style>\n",
       "<table border=\"1\" class=\"dataframe\">\n",
       "  <thead>\n",
       "    <tr style=\"text-align: right;\">\n",
       "      <th></th>\n",
       "      <th>DATE</th>\n",
       "      <th>DATE_F</th>\n",
       "      <th>ADP</th>\n",
       "      <th>logADP</th>\n",
       "      <th>diflogADP</th>\n",
       "      <th>predict</th>\n",
       "      <th>error</th>\n",
       "      <th>sqrError</th>\n",
       "      <th>absError</th>\n",
       "    </tr>\n",
       "  </thead>\n",
       "  <tbody>\n",
       "    <tr>\n",
       "      <th>0</th>\n",
       "      <td>1491226200</td>\n",
       "      <td>2017-04-03 19:00:00</td>\n",
       "      <td>102.2300</td>\n",
       "      <td>4.627225</td>\n",
       "      <td>0.000881</td>\n",
       "      <td>NaN</td>\n",
       "      <td>NaN</td>\n",
       "      <td>NaN</td>\n",
       "      <td>NaN</td>\n",
       "    </tr>\n",
       "    <tr>\n",
       "      <th>1</th>\n",
       "      <td>1491226260</td>\n",
       "      <td>2017-04-03 19:01:00</td>\n",
       "      <td>102.1400</td>\n",
       "      <td>4.626344</td>\n",
       "      <td>-0.000710</td>\n",
       "      <td>4.627226</td>\n",
       "      <td>-0.000882</td>\n",
       "      <td>7.775043e-07</td>\n",
       "      <td>0.000882</td>\n",
       "    </tr>\n",
       "    <tr>\n",
       "      <th>2</th>\n",
       "      <td>1491226320</td>\n",
       "      <td>2017-04-03 19:02:00</td>\n",
       "      <td>102.2125</td>\n",
       "      <td>4.627054</td>\n",
       "      <td>0.000710</td>\n",
       "      <td>4.626294</td>\n",
       "      <td>0.000760</td>\n",
       "      <td>5.780116e-07</td>\n",
       "      <td>0.000760</td>\n",
       "    </tr>\n",
       "    <tr>\n",
       "      <th>3</th>\n",
       "      <td>1491226380</td>\n",
       "      <td>2017-04-03 19:03:00</td>\n",
       "      <td>102.1400</td>\n",
       "      <td>4.626344</td>\n",
       "      <td>0.000784</td>\n",
       "      <td>4.627120</td>\n",
       "      <td>-0.000775</td>\n",
       "      <td>6.008867e-07</td>\n",
       "      <td>0.000775</td>\n",
       "    </tr>\n",
       "    <tr>\n",
       "      <th>4</th>\n",
       "      <td>1491226440</td>\n",
       "      <td>2017-04-03 19:04:00</td>\n",
       "      <td>102.0600</td>\n",
       "      <td>4.625561</td>\n",
       "      <td>0.000196</td>\n",
       "      <td>4.626308</td>\n",
       "      <td>-0.000747</td>\n",
       "      <td>5.583384e-07</td>\n",
       "      <td>0.000747</td>\n",
       "    </tr>\n",
       "  </tbody>\n",
       "</table>\n",
       "</div>"
      ],
      "text/plain": [
       "         DATE               DATE_F       ADP    logADP  diflogADP   predict  \\\n",
       "0  1491226200  2017-04-03 19:00:00  102.2300  4.627225   0.000881       NaN   \n",
       "1  1491226260  2017-04-03 19:01:00  102.1400  4.626344  -0.000710  4.627226   \n",
       "2  1491226320  2017-04-03 19:02:00  102.2125  4.627054   0.000710  4.626294   \n",
       "3  1491226380  2017-04-03 19:03:00  102.1400  4.626344   0.000784  4.627120   \n",
       "4  1491226440  2017-04-03 19:04:00  102.0600  4.625561   0.000196  4.626308   \n",
       "\n",
       "      error      sqrError  absError  \n",
       "0       NaN           NaN       NaN  \n",
       "1 -0.000882  7.775043e-07  0.000882  \n",
       "2  0.000760  5.780116e-07  0.000760  \n",
       "3 -0.000775  6.008867e-07  0.000775  \n",
       "4 -0.000747  5.583384e-07  0.000747  "
      ]
     },
     "execution_count": 55,
     "metadata": {},
     "output_type": "execute_result"
    }
   ],
   "source": [
    "data.head()"
   ]
  },
  {
   "cell_type": "code",
   "execution_count": 56,
   "metadata": {
    "ExecuteTime": {
     "end_time": "2018-11-26T06:25:41.932252Z",
     "start_time": "2018-11-26T06:25:41.921283Z"
    }
   },
   "outputs": [
    {
     "name": "stdout",
     "output_type": "stream",
     "text": [
      "MFE =  1.028043451887752e-06\n",
      "MAE =  9.952632997557516e-09\n"
     ]
    }
   ],
   "source": [
    "import numpy as np\n",
    "\n",
    "def mean_forecast_err(y, yhat):\n",
    "    return y.sub(yhat).mean()\n",
    "\n",
    "def mean_absolute_err(y, yhat):\n",
    "    return np.mean((np.abs(y.sub(yhat).mean()) / yhat)) # or percent error = * 100\n",
    "\n",
    "print(\"MFE = \", mean_forecast_err(data.ADP, np.exp(data.predict)))\n",
    "print(\"MAE = \", mean_absolute_err(data.ADP, np.exp(data.predict)))"
   ]
  },
  {
   "cell_type": "markdown",
   "metadata": {},
   "source": [
    "#### Mean Forecast error is practically zero; this shows that ARIMA is a great fit"
   ]
  },
  {
   "cell_type": "markdown",
   "metadata": {},
   "source": [
    "#### ----------------------"
   ]
  },
  {
   "cell_type": "markdown",
   "metadata": {},
   "source": [
    "#### Now, for the third stock in portfolio: CBOE"
   ]
  },
  {
   "cell_type": "code",
   "execution_count": 57,
   "metadata": {
    "ExecuteTime": {
     "end_time": "2018-11-26T06:25:42.778990Z",
     "start_time": "2018-11-26T06:25:41.935245Z"
    }
   },
   "outputs": [],
   "source": [
    "df['DATE_F'] = df.DATE.apply(lambda x:time.strftime('%Y-%m-%d %H:%M:%S', time.localtime(x)))\n",
    "df['logCBOE']= np.log(df['CBOE'])\n",
    "df['diflogCBOE'] = df['logCBOE'] - df['logCBOE'].shift(periods=-1)\n",
    "df = df.dropna()"
   ]
  },
  {
   "cell_type": "code",
   "execution_count": 58,
   "metadata": {
    "ExecuteTime": {
     "end_time": "2018-11-26T06:25:42.794982Z",
     "start_time": "2018-11-26T06:25:42.781983Z"
    }
   },
   "outputs": [],
   "source": [
    "# Splitting the data into 2 - for model fit and for test\n",
    "data = df[['DATE','DATE_F','CBOE','logCBOE','diflogCBOE']][:-100]\n",
    "test = df[['DATE','DATE_F','CBOE','logCBOE','diflogCBOE']][-100:]"
   ]
  },
  {
   "cell_type": "code",
   "execution_count": 59,
   "metadata": {
    "ExecuteTime": {
     "end_time": "2018-11-26T06:25:42.805921Z",
     "start_time": "2018-11-26T06:25:42.797942Z"
    }
   },
   "outputs": [
    {
     "name": "stdout",
     "output_type": "stream",
     "text": [
      "Size of data  (41163, 5)\n",
      "Size of test  (100, 5)\n"
     ]
    }
   ],
   "source": [
    "print(\"Size of data \", data.shape)\n",
    "print(\"Size of test \", test.shape)"
   ]
  },
  {
   "cell_type": "code",
   "execution_count": 60,
   "metadata": {
    "ExecuteTime": {
     "end_time": "2018-11-26T06:25:43.413310Z",
     "start_time": "2018-11-26T06:25:42.808913Z"
    }
   },
   "outputs": [
    {
     "data": {
      "text/plain": [
       "<matplotlib.legend.Legend at 0x21a83615710>"
      ]
     },
     "execution_count": 60,
     "metadata": {},
     "output_type": "execute_result"
    },
    {
     "data": {
      "image/png": "[encoded data removed]",
      "text/plain": [
       "<Figure size 720x288 with 3 Axes>"
      ]
     },
     "metadata": {},
     "output_type": "display_data"
    }
   ],
   "source": [
    "# Plotting the series and its transformation to check for stationarity\n",
    "\n",
    "fig, ax = plt.subplots(figsize=(10,4))\n",
    "\n",
    "plt.subplot(3, 1, 1)\n",
    "plt.plot(data.CBOE, label = \"CBOE Price\")\n",
    "plt.title(\"Level Closing Price\", size = 20,)\n",
    "plt.ylabel(\"Price in Dollars\", size = 10)\n",
    "plt.legend()\n",
    "\n",
    "plt.subplot(3, 1, 2)\n",
    "plt.plot(data.logCBOE, label = 'Log of CBOE', color = 'r')\n",
    "plt.title(\"Log of Closing Price\", size = 20,)\n",
    "plt.ylabel(\"Price in Log Dollars\", size = 10)\n",
    "plt.legend()\n",
    "\n",
    "plt.subplot(3, 1, 3)\n",
    "plt.plot( data.diflogCBOE, label = '1st Difference of Log of CBOE', color = 'g')\n",
    "plt.title(\"Differenced Log of Closing Price\", size = 20,)\n",
    "plt.ylabel(\"Differenced Closing Price\", size = 10)\n",
    "plt.xlabel('Day', size = 10)\n",
    "plt.legend()"
   ]
  },
  {
   "cell_type": "code",
   "execution_count": 61,
   "metadata": {
    "ExecuteTime": {
     "end_time": "2018-11-26T06:25:48.717343Z",
     "start_time": "2018-11-26T06:25:43.416290Z"
    }
   },
   "outputs": [
    {
     "name": "stdout",
     "output_type": "stream",
     "text": [
      "Results of Dickey-Fuller Test:\n",
      "Test Statistic                   -42.147145\n",
      "p-value                            0.000000\n",
      "# Lags Used                       25.000000\n",
      "Number of Observations Used    41137.000000\n",
      "Critical Value (1%)               -3.430509\n",
      "Critical Value (5%)               -2.861610\n",
      "Critical Value (10%)              -2.566807\n",
      "dtype: float64\n"
     ]
    }
   ],
   "source": [
    "#Perform Dickey-Fuller test TO TEST FOR STATIONARITY:\n",
    "print ('Results of Dickey-Fuller Test:')\n",
    "dftest = adfuller(data.diflogCBOE, autolag='AIC')\n",
    "dfoutput = pd.Series(dftest[0:4], index=['Test Statistic','p-value','# Lags Used','Number of Observations Used'])\n",
    "for key,value in dftest[4].items():\n",
    "    dfoutput['Critical Value (%s)'%key] = value\n",
    "print (dfoutput)"
   ]
  },
  {
   "cell_type": "markdown",
   "metadata": {},
   "source": [
    "#### Since p-value = 0, this log-first-difference series is STATIONARY; we can now proceed with ARIMA modeling"
   ]
  },
  {
   "cell_type": "code",
   "execution_count": 62,
   "metadata": {
    "ExecuteTime": {
     "end_time": "2018-11-26T06:25:48.729823Z",
     "start_time": "2018-11-26T06:25:48.720336Z"
    }
   },
   "outputs": [
    {
     "data": {
      "text/plain": [
       "2.153144539229907"
      ]
     },
     "execution_count": 62,
     "metadata": {},
     "output_type": "execute_result"
    }
   ],
   "source": [
    "# Now, check for Autocorrelation\n",
    "sm.stats.durbin_watson(df['diflogCBOE'].dropna())"
   ]
  },
  {
   "cell_type": "markdown",
   "metadata": {},
   "source": [
    "#### Since DW statistic is close to 2, we can say that there is minimum auto-correlation"
   ]
  },
  {
   "cell_type": "code",
   "execution_count": 63,
   "metadata": {
    "ExecuteTime": {
     "end_time": "2018-11-26T06:25:49.328513Z",
     "start_time": "2018-11-26T06:25:48.732816Z"
    }
   },
   "outputs": [
    {
     "data": {
      "image/png": "[encoded data removed]",
      "text/plain": [
       "<Figure size 720x288 with 2 Axes>"
      ]
     },
     "metadata": {},
     "output_type": "display_data"
    }
   ],
   "source": [
    "# Lets plot ACF and PACF plots\n",
    "\n",
    "fig = plt.figure(figsize=(10,4))\n",
    "ax1 = fig.add_subplot(211)\n",
    "fig = sm.graphics.tsa.plot_acf(df['diflogCBOE'].values.squeeze(), lags=40, ax=ax1)\n",
    "ax2 = fig.add_subplot(212)\n",
    "fig = sm.graphics.tsa.plot_pacf(df['diflogCBOE'], lags=40, ax=ax2)"
   ]
  },
  {
   "cell_type": "code",
   "execution_count": 64,
   "metadata": {
    "ExecuteTime": {
     "end_time": "2018-11-26T06:26:45.004194Z",
     "start_time": "2018-11-26T06:25:49.330511Z"
    }
   },
   "outputs": [
    {
     "name": "stderr",
     "output_type": "stream",
     "text": [
      "C:\\Anaconda3\\lib\\site-packages\\ipykernel_launcher.py:3: FutureWarning: Method .as_matrix will be removed in a future version. Use .values instead.\n",
      "  This is separate from the ipykernel package so we can avoid doing imports until\n",
      "C:\\Anaconda3\\lib\\site-packages\\scipy\\signal\\signaltools.py:1341: FutureWarning: Using a non-tuple sequence for multidimensional indexing is deprecated; use `arr[tuple(seq)]` instead of `arr[seq]`. In the future this will be interpreted as an array index, `arr[np.array(seq)]`, which will result either in an error or a different result.\n",
      "  out_full[ind] += zi\n",
      "C:\\Anaconda3\\lib\\site-packages\\scipy\\signal\\signaltools.py:1344: FutureWarning: Using a non-tuple sequence for multidimensional indexing is deprecated; use `arr[tuple(seq)]` instead of `arr[seq]`. In the future this will be interpreted as an array index, `arr[np.array(seq)]`, which will result either in an error or a different result.\n",
      "  out = out_full[ind]\n",
      "C:\\Anaconda3\\lib\\site-packages\\scipy\\signal\\signaltools.py:1350: FutureWarning: Using a non-tuple sequence for multidimensional indexing is deprecated; use `arr[tuple(seq)]` instead of `arr[seq]`. In the future this will be interpreted as an array index, `arr[np.array(seq)]`, which will result either in an error or a different result.\n",
      "  zf = out_full[ind]\n"
     ]
    },
    {
     "name": "stdout",
     "output_type": "stream",
     "text": [
      "(0, 1, 0) -504739.1254174707\n",
      "(0, 1, 1) -505004.46738867695\n",
      "(0, 1, 2) -505095.4018782902\n",
      "(1, 1, 0) -504981.5647792355\n",
      "(1, 1, 1) -505139.07218305604\n",
      "(1, 1, 2) -505131.02700645954\n",
      "(2, 1, 0) -505076.85022453044\n",
      "(2, 1, 1) -505132.2206294945\n",
      "(2, 1, 2) -505138.3893300432\n",
      "Best Model is : (1, 1, 1)\n"
     ]
    },
    {
     "name": "stderr",
     "output_type": "stream",
     "text": [
      "C:\\Anaconda3\\lib\\site-packages\\statsmodels\\base\\model.py:488: HessianInversionWarning: Inverting hessian failed, no bse or cov_params available\n",
      "  'available', HessianInversionWarning)\n"
     ]
    }
   ],
   "source": [
    "# To systematically find the ARIMA model parameters\n",
    "\n",
    "ararray = (data.logCBOE.dropna().as_matrix())\n",
    "\n",
    "p=0\n",
    "q=0\n",
    "d=1\n",
    "pdq=[]\n",
    "aic=[]\n",
    "\n",
    "for p in range(3):\n",
    "    for q in range(3):\n",
    "        try:\n",
    "            model = ARIMA(ararray, (p,d,q)).fit()\n",
    "            x = model.aic\n",
    "            x1 = (p,d,q)\n",
    "            \n",
    "            print (x1, x)\n",
    "            aic.append(x)\n",
    "            pdq.append(x1)\n",
    "        except:\n",
    "            pass\n",
    "                        \n",
    "keys = pdq\n",
    "values = aic\n",
    "d = dict(zip(keys, values))\n",
    "minaic=min(d, key=d.get)\n",
    "\n",
    "for i in range(3):\n",
    "    p=minaic[0]\n",
    "    d=minaic[1]\n",
    "    q=minaic[2]\n",
    "print (\"Best Model is :\", (p,d,q))"
   ]
  },
  {
   "cell_type": "code",
   "execution_count": 65,
   "metadata": {
    "ExecuteTime": {
     "end_time": "2018-11-26T06:26:59.705228Z",
     "start_time": "2018-11-26T06:26:45.007187Z"
    }
   },
   "outputs": [],
   "source": [
    "# Now, fit the ARIMA for the best parameters\n",
    "ARIMIAmod = ARIMA(ararray, (p,d,q)).fit()"
   ]
  },
  {
   "cell_type": "code",
   "execution_count": 66,
   "metadata": {
    "ExecuteTime": {
     "end_time": "2018-11-26T06:26:59.793989Z",
     "start_time": "2018-11-26T06:26:59.708219Z"
    }
   },
   "outputs": [
    {
     "data": {
      "text/html": [
       "<div>\n",
       "<style scoped>\n",
       "    .dataframe tbody tr th:only-of-type {\n",
       "        vertical-align: middle;\n",
       "    }\n",
       "\n",
       "    .dataframe tbody tr th {\n",
       "        vertical-align: top;\n",
       "    }\n",
       "\n",
       "    .dataframe thead th {\n",
       "        text-align: right;\n",
       "    }\n",
       "</style>\n",
       "<table border=\"1\" class=\"dataframe\">\n",
       "  <thead>\n",
       "    <tr style=\"text-align: right;\">\n",
       "      <th></th>\n",
       "      <th>DATE</th>\n",
       "      <th>DATE_F</th>\n",
       "      <th>CBOE</th>\n",
       "      <th>logCBOE</th>\n",
       "      <th>diflogCBOE</th>\n",
       "      <th>predict</th>\n",
       "    </tr>\n",
       "  </thead>\n",
       "  <tbody>\n",
       "    <tr>\n",
       "      <th>0</th>\n",
       "      <td>1491226200</td>\n",
       "      <td>2017-04-03 19:00:00</td>\n",
       "      <td>81.03</td>\n",
       "      <td>4.394819</td>\n",
       "      <td>-0.002219</td>\n",
       "      <td>NaN</td>\n",
       "    </tr>\n",
       "    <tr>\n",
       "      <th>1</th>\n",
       "      <td>1491226260</td>\n",
       "      <td>2017-04-03 19:01:00</td>\n",
       "      <td>81.21</td>\n",
       "      <td>4.397038</td>\n",
       "      <td>0.000000</td>\n",
       "      <td>81.030430</td>\n",
       "    </tr>\n",
       "    <tr>\n",
       "      <th>2</th>\n",
       "      <td>1491226320</td>\n",
       "      <td>2017-04-03 19:02:00</td>\n",
       "      <td>81.21</td>\n",
       "      <td>4.397038</td>\n",
       "      <td>0.000986</td>\n",
       "      <td>81.196536</td>\n",
       "    </tr>\n",
       "    <tr>\n",
       "      <th>3</th>\n",
       "      <td>1491226380</td>\n",
       "      <td>2017-04-03 19:03:00</td>\n",
       "      <td>81.13</td>\n",
       "      <td>4.396053</td>\n",
       "      <td>0.000123</td>\n",
       "      <td>81.202207</td>\n",
       "    </tr>\n",
       "    <tr>\n",
       "      <th>4</th>\n",
       "      <td>1491226440</td>\n",
       "      <td>2017-04-03 19:04:00</td>\n",
       "      <td>81.12</td>\n",
       "      <td>4.395930</td>\n",
       "      <td>-0.001232</td>\n",
       "      <td>81.132137</td>\n",
       "    </tr>\n",
       "  </tbody>\n",
       "</table>\n",
       "</div>"
      ],
      "text/plain": [
       "         DATE               DATE_F   CBOE   logCBOE  diflogCBOE    predict\n",
       "0  1491226200  2017-04-03 19:00:00  81.03  4.394819   -0.002219        NaN\n",
       "1  1491226260  2017-04-03 19:01:00  81.21  4.397038    0.000000  81.030430\n",
       "2  1491226320  2017-04-03 19:02:00  81.21  4.397038    0.000986  81.196536\n",
       "3  1491226380  2017-04-03 19:03:00  81.13  4.396053    0.000123  81.202207\n",
       "4  1491226440  2017-04-03 19:04:00  81.12  4.395930   -0.001232  81.132137"
      ]
     },
     "execution_count": 66,
     "metadata": {},
     "output_type": "execute_result"
    }
   ],
   "source": [
    "data.loc[1:, 'predict'] = np.exp(ARIMIAmod.predict(typ='levels'))\n",
    "data.head()"
   ]
  },
  {
   "cell_type": "code",
   "execution_count": 67,
   "metadata": {
    "ExecuteTime": {
     "end_time": "2018-11-26T06:27:00.082237Z",
     "start_time": "2018-11-26T06:26:59.796981Z"
    }
   },
   "outputs": [
    {
     "data": {
      "text/plain": [
       "<matplotlib.legend.Legend at 0x21a82ef9da0>"
      ]
     },
     "execution_count": 67,
     "metadata": {},
     "output_type": "execute_result"
    },
    {
     "data": {
      "image/png": "[encoded data removed]",
      "text/plain": [
       "<Figure size 432x288 with 1 Axes>"
      ]
     },
     "metadata": {},
     "output_type": "display_data"
    }
   ],
   "source": [
    "plt.plot(data['CBOE'][1:], label='original')\n",
    "plt.plot(data.predict[1:], label='predict')\n",
    "plt.legend()"
   ]
  },
  {
   "cell_type": "code",
   "execution_count": 68,
   "metadata": {
    "ExecuteTime": {
     "end_time": "2018-11-26T06:27:00.102185Z",
     "start_time": "2018-11-26T06:27:00.085231Z"
    }
   },
   "outputs": [
    {
     "data": {
      "text/plain": [
       "array([[4.61259547, 4.61464744],\n",
       "       [4.61222526, 4.61500965],\n",
       "       [4.61196161, 4.61527436],\n",
       "       [4.61174754, 4.61549413],\n",
       "       [4.61156214, 4.61568762],\n",
       "       [4.61139561, 4.61586345],\n",
       "       [4.61124271, 4.6160263 ],\n",
       "       [4.61110028, 4.616179  ],\n",
       "       [4.6109663 , 4.6163234 ],\n",
       "       [4.61083938, 4.61646084]])"
      ]
     },
     "execution_count": 68,
     "metadata": {},
     "output_type": "execute_result"
    }
   ],
   "source": [
    "numofsteps = 10\n",
    "stepahead = ARIMIAmod.forecast(numofsteps)[0]\n",
    "ferrors = ARIMIAmod.forecast(numofsteps)[2]\n",
    "ferrors"
   ]
  },
  {
   "cell_type": "code",
   "execution_count": 69,
   "metadata": {
    "ExecuteTime": {
     "end_time": "2018-11-26T06:27:00.130109Z",
     "start_time": "2018-11-26T06:27:00.105177Z"
    }
   },
   "outputs": [
    {
     "data": {
      "text/html": [
       "<div>\n",
       "<style scoped>\n",
       "    .dataframe tbody tr th:only-of-type {\n",
       "        vertical-align: middle;\n",
       "    }\n",
       "\n",
       "    .dataframe tbody tr th {\n",
       "        vertical-align: top;\n",
       "    }\n",
       "\n",
       "    .dataframe thead th {\n",
       "        text-align: right;\n",
       "    }\n",
       "</style>\n",
       "<table border=\"1\" class=\"dataframe\">\n",
       "  <thead>\n",
       "    <tr style=\"text-align: right;\">\n",
       "      <th></th>\n",
       "      <th>DATE</th>\n",
       "      <th>DATE_F</th>\n",
       "      <th>CBOE</th>\n",
       "      <th>logCBOE</th>\n",
       "      <th>diflogCBOE</th>\n",
       "      <th>predict</th>\n",
       "      <th>error</th>\n",
       "      <th>sqrError</th>\n",
       "      <th>absError</th>\n",
       "    </tr>\n",
       "  </thead>\n",
       "  <tbody>\n",
       "    <tr>\n",
       "      <th>0</th>\n",
       "      <td>1491226200</td>\n",
       "      <td>2017-04-03 19:00:00</td>\n",
       "      <td>81.03</td>\n",
       "      <td>4.394819</td>\n",
       "      <td>-0.002219</td>\n",
       "      <td>NaN</td>\n",
       "      <td>NaN</td>\n",
       "      <td>NaN</td>\n",
       "      <td>NaN</td>\n",
       "    </tr>\n",
       "    <tr>\n",
       "      <th>1</th>\n",
       "      <td>1491226260</td>\n",
       "      <td>2017-04-03 19:01:00</td>\n",
       "      <td>81.21</td>\n",
       "      <td>4.397038</td>\n",
       "      <td>0.000000</td>\n",
       "      <td>81.030430</td>\n",
       "      <td>0.179570</td>\n",
       "      <td>0.032245</td>\n",
       "      <td>0.179570</td>\n",
       "    </tr>\n",
       "    <tr>\n",
       "      <th>2</th>\n",
       "      <td>1491226320</td>\n",
       "      <td>2017-04-03 19:02:00</td>\n",
       "      <td>81.21</td>\n",
       "      <td>4.397038</td>\n",
       "      <td>0.000986</td>\n",
       "      <td>81.196536</td>\n",
       "      <td>0.013464</td>\n",
       "      <td>0.000181</td>\n",
       "      <td>0.013464</td>\n",
       "    </tr>\n",
       "    <tr>\n",
       "      <th>3</th>\n",
       "      <td>1491226380</td>\n",
       "      <td>2017-04-03 19:03:00</td>\n",
       "      <td>81.13</td>\n",
       "      <td>4.396053</td>\n",
       "      <td>0.000123</td>\n",
       "      <td>81.202207</td>\n",
       "      <td>-0.072207</td>\n",
       "      <td>0.005214</td>\n",
       "      <td>0.072207</td>\n",
       "    </tr>\n",
       "    <tr>\n",
       "      <th>4</th>\n",
       "      <td>1491226440</td>\n",
       "      <td>2017-04-03 19:04:00</td>\n",
       "      <td>81.12</td>\n",
       "      <td>4.395930</td>\n",
       "      <td>-0.001232</td>\n",
       "      <td>81.132137</td>\n",
       "      <td>-0.012137</td>\n",
       "      <td>0.000147</td>\n",
       "      <td>0.012137</td>\n",
       "    </tr>\n",
       "  </tbody>\n",
       "</table>\n",
       "</div>"
      ],
      "text/plain": [
       "         DATE               DATE_F   CBOE   logCBOE  diflogCBOE    predict  \\\n",
       "0  1491226200  2017-04-03 19:00:00  81.03  4.394819   -0.002219        NaN   \n",
       "1  1491226260  2017-04-03 19:01:00  81.21  4.397038    0.000000  81.030430   \n",
       "2  1491226320  2017-04-03 19:02:00  81.21  4.397038    0.000986  81.196536   \n",
       "3  1491226380  2017-04-03 19:03:00  81.13  4.396053    0.000123  81.202207   \n",
       "4  1491226440  2017-04-03 19:04:00  81.12  4.395930   -0.001232  81.132137   \n",
       "\n",
       "      error  sqrError  absError  \n",
       "0       NaN       NaN       NaN  \n",
       "1  0.179570  0.032245  0.179570  \n",
       "2  0.013464  0.000181  0.013464  \n",
       "3 -0.072207  0.005214  0.072207  \n",
       "4 -0.012137  0.000147  0.012137  "
      ]
     },
     "execution_count": 69,
     "metadata": {},
     "output_type": "execute_result"
    }
   ],
   "source": [
    "data['error'] = (data['CBOE'] - data['predict'])\n",
    "data['sqrError'] = np.square(data['error'])\n",
    "data['absError'] = np.abs(data['error'])\n",
    "data.head()"
   ]
  },
  {
   "cell_type": "code",
   "execution_count": 70,
   "metadata": {
    "ExecuteTime": {
     "end_time": "2018-11-26T06:27:00.593900Z",
     "start_time": "2018-11-26T06:27:00.133103Z"
    }
   },
   "outputs": [
    {
     "data": {
      "text/plain": [
       "Text(0.5,0,'Month')"
      ]
     },
     "execution_count": 70,
     "metadata": {},
     "output_type": "execute_result"
    },
    {
     "data": {
      "image/png": "[encoded data removed]",
      "text/plain": [
       "<Figure size 720x288 with 3 Axes>"
      ]
     },
     "metadata": {},
     "output_type": "display_data"
    }
   ],
   "source": [
    "fig, ax = plt.subplots(figsize=(10,4))\n",
    "\n",
    "plt.subplot(3, 1, 1)\n",
    "plt.plot(data.error, label = \"Residual\")\n",
    "plt.title(\"Residuals of Model\", size = 10,)\n",
    "plt.ylabel(\"Error\", size = 10)\n",
    "plt.xlabel('Month', size = 10)\n",
    "\n",
    "plt.subplot(3, 1, 2)\n",
    "plt.plot(data.sqrError, label = 'Residual Squared', color = 'r')\n",
    "plt.title(\"Residuals of Model Squared\", size = 10,)\n",
    "plt.ylabel(\"Error Squared\", size = 10)\n",
    "plt.xlabel('Month', size = 10)\n",
    "\n",
    "plt.subplot(3, 1, 3)\n",
    "plt.plot(data.absError, label = 'Residual Squared', color = 'r')\n",
    "plt.title(\"Residuals of Model Abs\", size = 10,)\n",
    "plt.ylabel(\"Error Squared\", size = 10)\n",
    "plt.xlabel('Month', size = 10)"
   ]
  },
  {
   "cell_type": "code",
   "execution_count": 71,
   "metadata": {
    "ExecuteTime": {
     "end_time": "2018-11-26T06:27:01.303534Z",
     "start_time": "2018-11-26T06:27:00.595898Z"
    }
   },
   "outputs": [
    {
     "data": {
      "text/plain": [
       "Text(0,0.5,'ACF')"
      ]
     },
     "execution_count": 71,
     "metadata": {},
     "output_type": "execute_result"
    },
    {
     "data": {
      "image/png": "[encoded data removed]",
      "text/plain": [
       "<Figure size 720x288 with 1 Axes>"
      ]
     },
     "metadata": {},
     "output_type": "display_data"
    }
   ],
   "source": [
    "fig, ax = plt.subplots(figsize=(10,4))\n",
    "\n",
    "plot_acf(data.error, lags = 25, ax = ax)\n",
    "ax.set_title('ACF Error')\n",
    "ax.set_xlabel('Lags')\n",
    "ax.set_ylabel('ACF')\n",
    "\n",
    "plot_acf(data.sqrError, lags = 25, ax = ax)\n",
    "ax.set_title('ACF Squared Error')\n",
    "ax.set_xlabel('Lags')\n",
    "ax.set_ylabel('ACF')"
   ]
  },
  {
   "cell_type": "code",
   "execution_count": 72,
   "metadata": {
    "ExecuteTime": {
     "end_time": "2018-11-26T06:27:01.491043Z",
     "start_time": "2018-11-26T06:27:01.307524Z"
    }
   },
   "outputs": [
    {
     "data": {
      "text/plain": [
       "Text(0,0.5,'PACF')"
      ]
     },
     "execution_count": 72,
     "metadata": {},
     "output_type": "execute_result"
    },
    {
     "data": {
      "image/png": "[encoded data removed]",
      "text/plain": [
       "<Figure size 720x288 with 1 Axes>"
      ]
     },
     "metadata": {},
     "output_type": "display_data"
    }
   ],
   "source": [
    "fig, ax = plt.subplots(figsize=(10,4))\n",
    "\n",
    "plot_pacf(data.error, lags = 25, ax = ax)\n",
    "ax.set_title('Errors PACF')\n",
    "ax.set_xlabel('Lags')\n",
    "ax.set_ylabel('PACF')\n",
    "\n",
    "plot_pacf(data.sqrError, lags = 25, ax = ax)\n",
    "ax.set_title('Errors Squared PACF')\n",
    "ax.set_xlabel('Lags')\n",
    "ax.set_ylabel('PACF')"
   ]
  },
  {
   "cell_type": "markdown",
   "metadata": {},
   "source": [
    "#### Now, run ARIMA model on Test data"
   ]
  },
  {
   "cell_type": "code",
   "execution_count": null,
   "metadata": {
    "ExecuteTime": {
     "start_time": "2018-11-26T05:34:17.207Z"
    }
   },
   "outputs": [
    {
     "name": "stdout",
     "output_type": "stream",
     "text": [
      "0\n",
      "1\n",
      "2\n",
      "3\n",
      "4\n",
      "5\n",
      "6\n",
      "7\n",
      "8\n",
      "9\n",
      "10\n",
      "11\n",
      "12\n",
      "13\n",
      "14\n",
      "15\n",
      "16\n",
      "17\n",
      "18\n",
      "19\n",
      "20\n",
      "21\n",
      "22\n",
      "23\n",
      "24\n",
      "25\n",
      "26\n",
      "27\n",
      "28\n",
      "29\n",
      "30\n",
      "31\n",
      "32\n",
      "33\n",
      "34\n",
      "35\n",
      "36\n",
      "37\n",
      "38\n",
      "39\n",
      "40\n",
      "41\n",
      "42\n",
      "43\n",
      "44\n",
      "45\n",
      "46\n",
      "47\n",
      "48\n",
      "49\n",
      "50\n",
      "51\n",
      "52\n",
      "53\n",
      "54\n",
      "55\n",
      "56\n",
      "57\n",
      "58\n",
      "59\n",
      "60\n",
      "61\n",
      "62\n",
      "63\n",
      "64\n",
      "65\n",
      "66\n",
      "67\n",
      "68\n",
      "69\n",
      "70\n",
      "71\n",
      "72\n",
      "73\n",
      "74\n",
      "75\n",
      "76\n",
      "77\n",
      "78\n",
      "79\n",
      "80\n",
      "81\n",
      "82\n",
      "83\n",
      "84\n",
      "85\n",
      "86\n",
      "87\n",
      "88\n",
      "89\n",
      "90\n"
     ]
    }
   ],
   "source": [
    "test = test.reset_index()\n",
    "test_logCBOE = list(test.logCBOE.values)\n",
    "\n",
    "ararray = list(data.logCBOE.values)\n",
    "test_predict = []\n",
    "for i in range(99):\n",
    "    print(i)\n",
    "    ARIMIAmod = ARIMA(ararray, (p,d,q)).fit()\n",
    "    test_predict.append(ARIMIAmod.forecast(1)[0])\n",
    "    ararray.append(test_logCBOE[i])\n",
    "    \n",
    "plt.plot(test_logCBOE)\n",
    "plt.plot(np.array(test_predict).ravel())"
   ]
  },
  {
   "cell_type": "code",
   "execution_count": null,
   "metadata": {
    "ExecuteTime": {
     "start_time": "2018-11-26T05:34:17.210Z"
    }
   },
   "outputs": [],
   "source": [
    "plt.figure(figsize=(10,4))\n",
    "plt.plot(data.logCBOE, label='original')\n",
    "plt.plot(data.logCBOE.rolling(300).mean(), label='rolling_mean')\n",
    "plt.plot(data.logCBOE.rolling(5000).mean(), label='rolling_mean')\n",
    "plt.legend()"
   ]
  },
  {
   "cell_type": "code",
   "execution_count": null,
   "metadata": {
    "ExecuteTime": {
     "start_time": "2018-11-26T05:34:17.212Z"
    }
   },
   "outputs": [],
   "source": [
    "plt.figure(figsize=(10,4))\n",
    "plt.plot(data.logCBOE.rolling(300).std())"
   ]
  },
  {
   "cell_type": "code",
   "execution_count": null,
   "metadata": {
    "ExecuteTime": {
     "start_time": "2018-11-26T05:34:17.215Z"
    }
   },
   "outputs": [],
   "source": [
    "data.head()"
   ]
  },
  {
   "cell_type": "code",
   "execution_count": null,
   "metadata": {
    "ExecuteTime": {
     "start_time": "2018-11-26T05:34:17.219Z"
    }
   },
   "outputs": [],
   "source": [
    "import numpy as np\n",
    "\n",
    "def mean_forecast_err(y, yhat):\n",
    "    return y.sub(yhat).mean()\n",
    "\n",
    "def mean_absolute_err(y, yhat):\n",
    "    return np.mean((np.abs(y.sub(yhat).mean()) / yhat)) # or percent error = * 100\n",
    "\n",
    "print(\"MFE = \", mean_forecast_err(data.CBOE, data.predict))\n",
    "print(\"MAE = \", mean_absolute_err(data.CBOE, data.predict))"
   ]
  },
  {
   "cell_type": "markdown",
   "metadata": {},
   "source": [
    "#### Mean Forecast error is practically zero; this shows that ARIMA is a great fit"
   ]
  },
  {
   "cell_type": "markdown",
   "metadata": {},
   "source": [
    "### --------------------------------------------"
   ]
  },
  {
   "cell_type": "markdown",
   "metadata": {},
   "source": [
    "#### The fourth stock in the list: CSCO"
   ]
  },
  {
   "cell_type": "code",
   "execution_count": null,
   "metadata": {
    "ExecuteTime": {
     "start_time": "2018-11-26T05:34:17.316Z"
    }
   },
   "outputs": [],
   "source": [
    "df['DATE_F'] = df.DATE.apply(lambda x:time.strftime('%Y-%m-%d %H:%M:%S', time.localtime(x)))\n",
    "df['logCSCO']= np.log(df['CSCO'])\n",
    "df['diflogCSCO'] = df['logCSCO'] - df['logCSCO'].shift(periods=-1)\n",
    "df = df.dropna()"
   ]
  },
  {
   "cell_type": "code",
   "execution_count": null,
   "metadata": {
    "ExecuteTime": {
     "start_time": "2018-11-26T05:34:17.319Z"
    }
   },
   "outputs": [],
   "source": [
    "# Splitting the data into 2 - for model fit and for test\n",
    "data = df[['DATE','DATE_F','CSCO','logCSCO','diflogCSCO']][:-100]\n",
    "test = df[['DATE','DATE_F','CSCO','logCSCO','diflogCSCO']][-100:]"
   ]
  },
  {
   "cell_type": "code",
   "execution_count": null,
   "metadata": {
    "ExecuteTime": {
     "start_time": "2018-11-26T05:34:17.322Z"
    }
   },
   "outputs": [],
   "source": [
    "print(\"Size of data \", data.shape)\n",
    "print(\"Size of test \", test.shape)"
   ]
  },
  {
   "cell_type": "code",
   "execution_count": null,
   "metadata": {
    "ExecuteTime": {
     "start_time": "2018-11-26T05:34:17.325Z"
    }
   },
   "outputs": [],
   "source": [
    "# Plotting the series and its transformation to check for stationarity\n",
    "\n",
    "fig, ax = plt.subplots(figsize=(10,4))\n",
    "\n",
    "plt.subplot(3, 1, 1)\n",
    "plt.plot(data.CSCO, label = \"CSCO Price\")\n",
    "plt.title(\"Level Closing Price\", size = 20,)\n",
    "plt.ylabel(\"Price in Dollars\", size = 10)\n",
    "plt.legend()\n",
    "\n",
    "plt.subplot(3, 1, 2)\n",
    "plt.plot(data.logCSCO, label = 'Log of CSCO', color = 'r')\n",
    "plt.title(\"Log of Closing Price\", size = 20,)\n",
    "plt.ylabel(\"Price in Log Dollars\", size = 10)\n",
    "plt.legend()\n",
    "\n",
    "plt.subplot(3, 1, 3)\n",
    "plt.plot( data.diflogCSCO, label = '1st Difference of Log of CSCO', color = 'g')\n",
    "plt.title(\"Differenced Log of Closing Price\", size = 20,)\n",
    "plt.ylabel(\"Differenced Closing Price\", size = 10)\n",
    "plt.xlabel('Day', size = 10)\n",
    "plt.legend()"
   ]
  },
  {
   "cell_type": "code",
   "execution_count": null,
   "metadata": {
    "ExecuteTime": {
     "start_time": "2018-11-26T05:34:17.327Z"
    }
   },
   "outputs": [],
   "source": [
    "#Perform Dickey-Fuller test:\n",
    "print ('Results of Dickey-Fuller Test:')\n",
    "dftest = adfuller(data.diflogCSCO, autolag='AIC')\n",
    "dfoutput = pd.Series(dftest[0:4], index=['Test Statistic','p-value','# Lags Used','Number of Observations Used'])\n",
    "for key,value in dftest[4].items():\n",
    "    dfoutput['Critical Value (%s)'%key] = value\n",
    "print (dfoutput)"
   ]
  },
  {
   "cell_type": "markdown",
   "metadata": {},
   "source": [
    "#### Since p-value = 0, this log-first-difference series is STATIONARY; we can now proceed with ARIMA modeling"
   ]
  },
  {
   "cell_type": "code",
   "execution_count": null,
   "metadata": {
    "ExecuteTime": {
     "start_time": "2018-11-26T05:34:17.366Z"
    }
   },
   "outputs": [],
   "source": [
    "# Check for autocorrelation\n",
    "sm.stats.durbin_watson(df['diflogCSCO'].dropna())"
   ]
  },
  {
   "cell_type": "markdown",
   "metadata": {},
   "source": [
    "#### Since DW statistic is close to 2, we can say that there is minimum auto-correlation"
   ]
  },
  {
   "cell_type": "code",
   "execution_count": null,
   "metadata": {
    "ExecuteTime": {
     "start_time": "2018-11-26T05:34:17.389Z"
    }
   },
   "outputs": [],
   "source": [
    "# Lets plot ACF and PACF plots\n",
    "\n",
    "fig = plt.figure(figsize=(10,4))\n",
    "ax1 = fig.add_subplot(211)\n",
    "fig = sm.graphics.tsa.plot_acf(df['diflogCSCO'].values.squeeze(), lags=40, ax=ax1)\n",
    "ax2 = fig.add_subplot(212)\n",
    "fig = sm.graphics.tsa.plot_pacf(df['diflogCSCO'], lags=40, ax=ax2)"
   ]
  },
  {
   "cell_type": "code",
   "execution_count": null,
   "metadata": {
    "ExecuteTime": {
     "start_time": "2018-11-26T05:34:17.391Z"
    }
   },
   "outputs": [],
   "source": [
    "# To systematically find the ARIMA model parameters\n",
    "\n",
    "ararray = (data.logCSCO.dropna().as_matrix())\n",
    "\n",
    "p=0\n",
    "q=0\n",
    "d=1\n",
    "pdq=[]\n",
    "aic=[]\n",
    "\n",
    "for p in range(3):\n",
    "    for q in range(3):\n",
    "        try:\n",
    "            model = ARIMA(ararray, (p,d,q)).fit()\n",
    "            x = model.aic\n",
    "            x1 = (p,d,q)\n",
    "            \n",
    "            print (x1, x)\n",
    "            aic.append(x)\n",
    "            pdq.append(x1)\n",
    "        except:\n",
    "            pass\n",
    "                        \n",
    "keys = pdq\n",
    "values = aic\n",
    "d = dict(zip(keys, values))\n",
    "minaic=min(d, key=d.get)\n",
    "\n",
    "for i in range(3):\n",
    "    p=minaic[0]\n",
    "    d=minaic[1]\n",
    "    q=minaic[2]\n",
    "print (\"Best Model is :\", (p,d,q))"
   ]
  },
  {
   "cell_type": "markdown",
   "metadata": {},
   "source": [
    "#### Use the identified parameters to fit the ARIMA model"
   ]
  },
  {
   "cell_type": "code",
   "execution_count": null,
   "metadata": {
    "ExecuteTime": {
     "start_time": "2018-11-26T05:34:17.414Z"
    }
   },
   "outputs": [],
   "source": [
    "ARIMIAmod = ARIMA(ararray, (p,d,q)).fit()"
   ]
  },
  {
   "cell_type": "code",
   "execution_count": null,
   "metadata": {
    "ExecuteTime": {
     "start_time": "2018-11-26T05:34:17.415Z"
    }
   },
   "outputs": [],
   "source": [
    "data.loc[1:, 'predict'] = np.exp(ARIMIAmod.predict(typ='levels'))\n",
    "data.head()"
   ]
  },
  {
   "cell_type": "code",
   "execution_count": null,
   "metadata": {
    "ExecuteTime": {
     "start_time": "2018-11-26T05:34:17.418Z"
    }
   },
   "outputs": [],
   "source": [
    "plt.plot(data['CSCO'][1:], label='original')\n",
    "plt.plot(data.predict[1:], label='predict')\n",
    "plt.legend()"
   ]
  },
  {
   "cell_type": "code",
   "execution_count": null,
   "metadata": {
    "ExecuteTime": {
     "start_time": "2018-11-26T05:34:17.420Z"
    }
   },
   "outputs": [],
   "source": [
    "numofsteps = 10\n",
    "stepahead = ARIMIAmod.forecast(numofsteps)[0]\n",
    "ferrors = ARIMIAmod.forecast(numofsteps)[2]\n",
    "ferrors"
   ]
  },
  {
   "cell_type": "code",
   "execution_count": null,
   "metadata": {
    "ExecuteTime": {
     "start_time": "2018-11-26T05:34:17.422Z"
    }
   },
   "outputs": [],
   "source": [
    "data['error'] = (data['CSCO'] - data['predict'])\n",
    "data['sqrError'] = np.square(data['error'])\n",
    "data['absError'] = np.abs(data['error'])\n",
    "data.head()"
   ]
  },
  {
   "cell_type": "code",
   "execution_count": null,
   "metadata": {
    "ExecuteTime": {
     "start_time": "2018-11-26T05:34:17.424Z"
    }
   },
   "outputs": [],
   "source": [
    "fig, ax = plt.subplots(figsize=(10,4))\n",
    "\n",
    "plt.subplot(3, 1, 1)\n",
    "plt.plot(data.error, label = \"Residual\")\n",
    "plt.title(\"Residuals of Model\", size = 10,)\n",
    "plt.ylabel(\"Error\", size = 10)\n",
    "plt.xlabel('Month', size = 10)\n",
    "\n",
    "plt.subplot(3, 1, 2)\n",
    "plt.plot(data.sqrError, label = 'Residual Squared', color = 'r')\n",
    "plt.title(\"Residuals of Model Squared\", size = 10,)\n",
    "plt.ylabel(\"Error Squared\", size = 10)\n",
    "plt.xlabel('Month', size = 10)\n",
    "\n",
    "plt.subplot(3, 1, 3)\n",
    "plt.plot(data.absError, label = 'Residual Squared', color = 'r')\n",
    "plt.title(\"Residuals of Model Abs\", size = 10,)\n",
    "plt.ylabel(\"Error Squared\", size = 10)\n",
    "plt.xlabel('Month', size = 10)\n"
   ]
  },
  {
   "cell_type": "code",
   "execution_count": null,
   "metadata": {
    "ExecuteTime": {
     "start_time": "2018-11-26T05:34:17.426Z"
    }
   },
   "outputs": [],
   "source": [
    "fig, ax = plt.subplots(figsize=(10,4))\n",
    "\n",
    "plot_acf(data.error, lags = 25, ax = ax)\n",
    "ax.set_title('ACF Error')\n",
    "ax.set_xlabel('Lags')\n",
    "ax.set_ylabel('ACF')"
   ]
  },
  {
   "cell_type": "code",
   "execution_count": null,
   "metadata": {
    "ExecuteTime": {
     "start_time": "2018-11-26T05:34:17.428Z"
    }
   },
   "outputs": [],
   "source": [
    "fig, ax = plt.subplots(figsize=(10,4))\n",
    "plot_acf(data.sqrError, lags = 25, ax = ax)\n",
    "ax.set_title('ACF Squared Error')\n",
    "ax.set_xlabel('Lags')\n",
    "ax.set_ylabel('ACF')"
   ]
  },
  {
   "cell_type": "code",
   "execution_count": null,
   "metadata": {
    "ExecuteTime": {
     "start_time": "2018-11-26T05:34:17.430Z"
    }
   },
   "outputs": [],
   "source": [
    "fig, ax = plt.subplots(figsize=(10,4))\n",
    "\n",
    "plot_pacf(data.error, lags = 25, ax = ax)\n",
    "ax.set_title('Errors PACF')\n",
    "ax.set_xlabel('Lags')\n",
    "ax.set_ylabel('PACF')\n"
   ]
  },
  {
   "cell_type": "code",
   "execution_count": null,
   "metadata": {
    "ExecuteTime": {
     "start_time": "2018-11-26T05:34:17.433Z"
    }
   },
   "outputs": [],
   "source": [
    "fig, ax = plt.subplots(figsize=(10,4))\n",
    "\n",
    "plot_pacf(data.sqrError, lags = 25, ax = ax)\n",
    "ax.set_title('Errors Squared PACF')\n",
    "ax.set_xlabel('Lags')\n",
    "ax.set_ylabel('PACF')"
   ]
  },
  {
   "cell_type": "markdown",
   "metadata": {},
   "source": [
    "#### Now, to run the ARIMA model on test data"
   ]
  },
  {
   "cell_type": "code",
   "execution_count": null,
   "metadata": {
    "ExecuteTime": {
     "start_time": "2018-11-26T05:34:17.461Z"
    }
   },
   "outputs": [],
   "source": [
    "test = test.reset_index()\n",
    "test_logCSCO = list(test.logCSCO.values)\n",
    "\n",
    "ararray = list(data.logCSCO.values)\n",
    "test_predict = []\n",
    "for i in range(99):\n",
    "    print(i)\n",
    "    ARIMIAmod = ARIMA(ararray, (p,d,q)).fit()\n",
    "    test_predict.append(ARIMIAmod.forecast(1)[0])\n",
    "    ararray.append(test_logCSCO[i])\n",
    "    \n",
    "plt.plot(test_logCSCO)\n",
    "plt.plot(np.array(test_predict).ravel())"
   ]
  },
  {
   "cell_type": "code",
   "execution_count": null,
   "metadata": {
    "ExecuteTime": {
     "start_time": "2018-11-26T05:34:17.463Z"
    }
   },
   "outputs": [],
   "source": [
    "plt.figure(figsize=(10,4))\n",
    "plt.plot(data.logCSCO, label='original')\n",
    "plt.plot(data.logCSCO.rolling(300).mean(), label='rolling_mean')\n",
    "plt.plot(data.logCSCO.rolling(5000).mean(), label='rolling_mean')\n",
    "plt.legend()"
   ]
  },
  {
   "cell_type": "code",
   "execution_count": null,
   "metadata": {
    "ExecuteTime": {
     "start_time": "2018-11-26T05:34:17.464Z"
    }
   },
   "outputs": [],
   "source": [
    "plt.figure(figsize=(10,4))\n",
    "plt.plot(data.logCSCO.rolling(300).std())"
   ]
  },
  {
   "cell_type": "code",
   "execution_count": null,
   "metadata": {
    "ExecuteTime": {
     "start_time": "2018-11-26T05:34:17.466Z"
    }
   },
   "outputs": [],
   "source": [
    "data.head()"
   ]
  },
  {
   "cell_type": "code",
   "execution_count": null,
   "metadata": {
    "ExecuteTime": {
     "start_time": "2018-11-26T05:34:17.468Z"
    }
   },
   "outputs": [],
   "source": [
    "import numpy as np\n",
    "\n",
    "def mean_forecast_err(y, yhat):\n",
    "    return y.sub(yhat).mean()\n",
    "\n",
    "def mean_absolute_err(y, yhat):\n",
    "    return np.mean((np.abs(y.sub(yhat).mean()) / yhat)) # or percent error = * 100\n",
    "\n",
    "print(\"MFE = \", mean_forecast_err(data.CSCO, data.predict))\n",
    "print(\"MAE = \", mean_absolute_err(data.CSCO, data.predict))"
   ]
  },
  {
   "cell_type": "markdown",
   "metadata": {},
   "source": [
    "#### Mean Forecast error is practically zero; this shows that ARIMA is a great fit\n",
    "### ----------------------------------"
   ]
  },
  {
   "cell_type": "markdown",
   "metadata": {},
   "source": [
    "#### Now, for the FIFTH stock in portfolio : EBAY"
   ]
  },
  {
   "cell_type": "code",
   "execution_count": null,
   "metadata": {
    "ExecuteTime": {
     "start_time": "2018-11-26T05:34:17.507Z"
    }
   },
   "outputs": [],
   "source": [
    "df['DATE_F'] = df.DATE.apply(lambda x:time.strftime('%Y-%m-%d %H:%M:%S', time.localtime(x)))\n",
    "df['logEBAY']= np.log(df['EBAY'])\n",
    "df['diflogEBAY'] = df['logEBAY'] - df['logEBAY'].shift(periods=-1)\n",
    "df = df.dropna()"
   ]
  },
  {
   "cell_type": "code",
   "execution_count": null,
   "metadata": {
    "ExecuteTime": {
     "start_time": "2018-11-26T05:34:17.510Z"
    }
   },
   "outputs": [],
   "source": [
    "# Splitting the data into 2 - for model fit and for test\n",
    "data = df[['DATE','DATE_F','EBAY','logEBAY','diflogEBAY']][:-100]\n",
    "test = df[['DATE','DATE_F','EBAY','logEBAY','diflogEBAY']][-100:]"
   ]
  },
  {
   "cell_type": "code",
   "execution_count": null,
   "metadata": {
    "ExecuteTime": {
     "start_time": "2018-11-26T05:34:17.511Z"
    }
   },
   "outputs": [],
   "source": [
    "print(\"Size of data \", data.shape)\n",
    "print(\"Size of test \", test.shape)"
   ]
  },
  {
   "cell_type": "code",
   "execution_count": null,
   "metadata": {
    "ExecuteTime": {
     "start_time": "2018-11-26T05:34:17.513Z"
    }
   },
   "outputs": [],
   "source": [
    "# Plotting the series and its transformation to check for stationarity\n",
    "\n",
    "fig, ax = plt.subplots(figsize=(10,4))\n",
    "\n",
    "plt.subplot(3, 1, 1)\n",
    "plt.plot(data.EBAY, label = \"EBAY Price\")\n",
    "plt.title(\"Level Closing Price\", size = 20,)\n",
    "plt.ylabel(\"Price in Dollars\", size = 10)\n",
    "plt.legend()\n",
    "\n",
    "plt.subplot(3, 1, 2)\n",
    "plt.plot(data.logEBAY, label = 'Log of EBAY', color = 'r')\n",
    "plt.title(\"Log of Closing Price\", size = 20,)\n",
    "plt.ylabel(\"Price in Log Dollars\", size = 10)\n",
    "plt.legend()\n",
    "\n",
    "plt.subplot(3, 1, 3)\n",
    "plt.plot( data.diflogEBAY, label = '1st Difference of Log of EBAY', color = 'g')\n",
    "plt.title(\"Differenced Log of Closing Price\", size = 20,)\n",
    "plt.ylabel(\"Differenced Closing Price\", size = 10)\n",
    "plt.xlabel('Day', size = 10)\n",
    "plt.legend()"
   ]
  },
  {
   "cell_type": "code",
   "execution_count": null,
   "metadata": {
    "ExecuteTime": {
     "start_time": "2018-11-26T05:34:17.515Z"
    }
   },
   "outputs": [],
   "source": [
    "#Perform Dickey-Fuller test:\n",
    "print ('Results of Dickey-Fuller Test:')\n",
    "dftest = adfuller(data.diflogEBAY, autolag='AIC')\n",
    "dfoutput = pd.Series(dftest[0:4], index=['Test Statistic','p-value','# Lags Used','Number of Observations Used'])\n",
    "for key,value in dftest[4].items():\n",
    "    dfoutput['Critical Value (%s)'%key] = value\n",
    "print (dfoutput)"
   ]
  },
  {
   "cell_type": "markdown",
   "metadata": {},
   "source": [
    "#### Since p-value = 0, this log-first-difference series is STATIONARY; we can now proceed with ARIMA modeling"
   ]
  },
  {
   "cell_type": "code",
   "execution_count": null,
   "metadata": {
    "ExecuteTime": {
     "start_time": "2018-11-26T05:34:17.536Z"
    }
   },
   "outputs": [],
   "source": [
    "# Check for autocorrelation\n",
    "sm.stats.durbin_watson(df['diflogEBAY'].dropna())"
   ]
  },
  {
   "cell_type": "code",
   "execution_count": null,
   "metadata": {
    "ExecuteTime": {
     "start_time": "2018-11-26T05:34:17.537Z"
    }
   },
   "outputs": [],
   "source": [
    "### DW is close to 2, so there is minimum autocorrelation\n",
    "\n",
    "# Lets plot ACF and PACF plots\n",
    "\n",
    "fig = plt.figure(figsize=(10,4))\n",
    "ax1 = fig.add_subplot(211)\n",
    "fig = sm.graphics.tsa.plot_acf(df['diflogEBAY'].values.squeeze(), lags=40, ax=ax1)\n",
    "ax2 = fig.add_subplot(212)\n",
    "fig = sm.graphics.tsa.plot_pacf(df['diflogEBAY'], lags=40, ax=ax2)"
   ]
  },
  {
   "cell_type": "code",
   "execution_count": null,
   "metadata": {
    "ExecuteTime": {
     "start_time": "2018-11-26T05:34:17.540Z"
    }
   },
   "outputs": [],
   "source": [
    "# To systematically find the ARIMA model parameters\n",
    "\n",
    "ararray = (data.logEBAY.dropna().as_matrix())\n",
    "\n",
    "p=0\n",
    "q=0\n",
    "d=1\n",
    "pdq=[]\n",
    "aic=[]\n",
    "\n",
    "for p in range(3):\n",
    "    for q in range(3):\n",
    "        try:\n",
    "            model = ARIMA(ararray, (p,d,q)).fit()\n",
    "            x = model.aic\n",
    "            x1 = (p,d,q)\n",
    "            \n",
    "            print (x1, x)\n",
    "            aic.append(x)\n",
    "            pdq.append(x1)\n",
    "        except:\n",
    "            pass\n",
    "                        \n",
    "keys = pdq\n",
    "values = aic\n",
    "d = dict(zip(keys, values))\n",
    "minaic=min(d, key=d.get)\n",
    "\n",
    "for i in range(3):\n",
    "    p=minaic[0]\n",
    "    d=minaic[1]\n",
    "    q=minaic[2]\n",
    "print (\"Best Model is :\", (p,d,q))"
   ]
  },
  {
   "cell_type": "code",
   "execution_count": null,
   "metadata": {
    "ExecuteTime": {
     "start_time": "2018-11-26T05:34:17.543Z"
    }
   },
   "outputs": [],
   "source": [
    "p, d, q"
   ]
  },
  {
   "cell_type": "markdown",
   "metadata": {},
   "source": [
    "#### Use the identified parameters to fit the ARIMA model"
   ]
  },
  {
   "cell_type": "code",
   "execution_count": null,
   "metadata": {
    "ExecuteTime": {
     "start_time": "2018-11-26T05:34:17.568Z"
    }
   },
   "outputs": [],
   "source": [
    "ARIMIAmod = ARIMA(ararray, (p,d,q)).fit()"
   ]
  },
  {
   "cell_type": "code",
   "execution_count": null,
   "metadata": {
    "ExecuteTime": {
     "start_time": "2018-11-26T05:34:17.569Z"
    }
   },
   "outputs": [],
   "source": [
    "data.loc[1:, 'predict'] = np.exp(ARIMIAmod.predict(typ='levels'))\n",
    "data.head()"
   ]
  },
  {
   "cell_type": "code",
   "execution_count": null,
   "metadata": {
    "ExecuteTime": {
     "start_time": "2018-11-26T05:34:17.571Z"
    }
   },
   "outputs": [],
   "source": [
    "plt.plot(data['EBAY'][1:], label='original')\n",
    "plt.plot(data.predict[1:], label='predict')\n",
    "plt.legend()"
   ]
  },
  {
   "cell_type": "code",
   "execution_count": null,
   "metadata": {
    "ExecuteTime": {
     "start_time": "2018-11-26T05:34:17.573Z"
    }
   },
   "outputs": [],
   "source": [
    "numofsteps = 10\n",
    "stepahead = ARIMIAmod.forecast(numofsteps)[0]\n",
    "ferrors = ARIMIAmod.forecast(numofsteps)[2]\n",
    "ferrors"
   ]
  },
  {
   "cell_type": "code",
   "execution_count": null,
   "metadata": {
    "ExecuteTime": {
     "start_time": "2018-11-26T05:34:17.576Z"
    }
   },
   "outputs": [],
   "source": [
    "data['error'] = (data['EBAY'] - data['predict'])\n",
    "data['sqrError'] = np.square(data['error'])\n",
    "data['absError'] = np.abs(data['error'])\n",
    "data.head()"
   ]
  },
  {
   "cell_type": "code",
   "execution_count": null,
   "metadata": {
    "ExecuteTime": {
     "start_time": "2018-11-26T05:34:17.580Z"
    }
   },
   "outputs": [],
   "source": [
    "fig, ax = plt.subplots(figsize=(10,4))\n",
    "\n",
    "plt.subplot(3, 1, 1)\n",
    "plt.plot(data.error, label = \"Residual\")\n",
    "plt.title(\"Residuals of Model\", size = 10,)\n",
    "plt.ylabel(\"Error\", size = 10)\n",
    "plt.xlabel('Month', size = 10)\n",
    "\n",
    "plt.subplot(3, 1, 2)\n",
    "plt.plot(data.sqrError, label = 'Residual Squared', color = 'r')\n",
    "plt.title(\"Residuals of Model Squared\", size = 10,)\n",
    "plt.ylabel(\"Error Squared\", size = 10)\n",
    "plt.xlabel('Month', size = 10)\n",
    "\n",
    "plt.subplot(3, 1, 3)\n",
    "plt.plot(data.absError, label = 'Residual Squared', color = 'r')\n",
    "plt.title(\"Residuals of Model Abs\", size = 10,)\n",
    "plt.ylabel(\"Error Squared\", size = 10)\n",
    "plt.xlabel('Month', size = 10)"
   ]
  },
  {
   "cell_type": "code",
   "execution_count": null,
   "metadata": {
    "ExecuteTime": {
     "start_time": "2018-11-26T05:34:17.584Z"
    }
   },
   "outputs": [],
   "source": [
    "fig, ax = plt.subplots(figsize=(10,4))\n",
    "\n",
    "plot_acf(data.error, lags = 25, ax = ax)\n",
    "ax.set_title('ACF Error')\n",
    "ax.set_xlabel('Lags')\n",
    "ax.set_ylabel('ACF')\n"
   ]
  },
  {
   "cell_type": "code",
   "execution_count": null,
   "metadata": {
    "ExecuteTime": {
     "start_time": "2018-11-26T05:34:17.587Z"
    }
   },
   "outputs": [],
   "source": [
    "fig, ax = plt.subplots(figsize=(10,4))\n",
    "\n",
    "plot_acf(data.sqrError, lags = 25, ax = ax)\n",
    "ax.set_title('ACF Squared Error')\n",
    "ax.set_xlabel('Lags')\n",
    "ax.set_ylabel('ACF')"
   ]
  },
  {
   "cell_type": "markdown",
   "metadata": {},
   "source": [
    "#### Now, to run the ARIMA model on test data"
   ]
  },
  {
   "cell_type": "code",
   "execution_count": null,
   "metadata": {
    "ExecuteTime": {
     "start_time": "2018-11-26T05:34:17.618Z"
    }
   },
   "outputs": [],
   "source": [
    "test = test.reset_index()\n",
    "test_logEBAY = list(test.logEBAY.values)\n",
    "\n",
    "ararray = list(data.logEBAY.values)\n",
    "test_predict = []\n",
    "for i in range(99):\n",
    "    print(i)\n",
    "    ARIMIAmod = ARIMA(ararray, (p,d,q)).fit()\n",
    "    test_predict.append(ARIMIAmod.forecast(1)[0])\n",
    "    ararray.append(test_logEBAY[i])\n",
    "    \n",
    "plt.plot(test_logEBAY)\n",
    "plt.plot(np.array(test_predict).ravel())"
   ]
  },
  {
   "cell_type": "code",
   "execution_count": null,
   "metadata": {
    "ExecuteTime": {
     "start_time": "2018-11-26T05:34:17.620Z"
    }
   },
   "outputs": [],
   "source": [
    "plt.figure(figsize=(10,4))\n",
    "plt.plot(data.logEBAY, label='original')\n",
    "plt.plot(data.logEBAY.rolling(300).mean(), label='rolling_mean')\n",
    "plt.plot(data.logEBAY.rolling(5000).mean(), label='rolling_mean')\n",
    "plt.legend()"
   ]
  },
  {
   "cell_type": "code",
   "execution_count": null,
   "metadata": {
    "ExecuteTime": {
     "start_time": "2018-11-26T05:34:17.621Z"
    }
   },
   "outputs": [],
   "source": [
    "plt.figure(figsize=(10,4))\n",
    "plt.plot(data.logEBAY.rolling(300).std())"
   ]
  },
  {
   "cell_type": "code",
   "execution_count": null,
   "metadata": {
    "ExecuteTime": {
     "start_time": "2018-11-26T05:34:17.624Z"
    }
   },
   "outputs": [],
   "source": [
    "data.head()"
   ]
  },
  {
   "cell_type": "code",
   "execution_count": null,
   "metadata": {
    "ExecuteTime": {
     "start_time": "2018-11-26T05:34:17.625Z"
    }
   },
   "outputs": [],
   "source": [
    "import numpy as np\n",
    "\n",
    "def mean_forecast_err(y, yhat):\n",
    "    return y.sub(yhat).mean()\n",
    "\n",
    "def mean_absolute_err(y, yhat):\n",
    "    return np.mean((np.abs(y.sub(yhat).mean()) / yhat)) # or percent error = * 100\n",
    "\n",
    "print(\"MFE = \", mean_forecast_err(data.EBAY, data.predict))\n",
    "print(\"MAE = \", mean_absolute_err(data.EBAY, data.predict))"
   ]
  },
  {
   "cell_type": "markdown",
   "metadata": {},
   "source": [
    "#### Mean Forecast error is practically zero; this shows that ARIMA is a great fit"
   ]
  },
  {
   "cell_type": "markdown",
   "metadata": {},
   "source": [
    "#### In this project, ARIMA (p, d, q) models have been successfully demonstrated for the 5 stocks - AAPL, ADP, CBOE, CSCO, EBAY"
   ]
  },
  {
   "cell_type": "code",
   "execution_count": null,
   "metadata": {},
   "outputs": [],
   "source": []
  }
 ],
 "metadata": {
  "kernelspec": {
   "display_name": "Python 3",
   "language": "python",
   "name": "python3"
  },
  "language_info": {
   "codemirror_mode": {
    "name": "ipython",
    "version": 3
   },
   "file_extension": ".py",
   "mimetype": "text/x-python",
   "name": "python",
   "nbconvert_exporter": "python",
   "pygments_lexer": "ipython3",
   "version": "3.6.5"
  }
 },
 "nbformat": 4,
 "nbformat_minor": 2
}
